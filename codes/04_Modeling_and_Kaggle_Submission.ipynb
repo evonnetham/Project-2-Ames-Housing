{
 "cells": [
  {
   "cell_type": "markdown",
   "metadata": {},
   "source": [
    "# Project 2: Ames Property Watch\n",
    "### Part 3 Model and Kaggle Submission\n",
    "\n",
    "_Author: Evonne Tham_\n",
    "\n",
    "---\n"
   ]
  },
  {
   "cell_type": "markdown",
   "metadata": {},
   "source": [
    "## Modelling "
   ]
  },
  {
   "cell_type": "markdown",
   "metadata": {},
   "source": [
    "### 1. Reimport from File"
   ]
  },
  {
   "cell_type": "code",
   "execution_count": 1,
   "metadata": {},
   "outputs": [],
   "source": [
    "# Reimport all Libraries \n",
    "\n",
    "import pandas as pd \n",
    "import numpy as np\n",
    "import matplotlib.pyplot as plt \n",
    "import seaborn as sns \n",
    "\n",
    "sns.set_style('darkgrid')\n",
    "\n",
    "from sklearn.linear_model import LinearRegression, Ridge, RidgeCV, Lasso, LassoCV\n",
    "from sklearn.preprocessing import PolynomialFeatures, StandardScaler\n",
    "from sklearn.model_selection import train_test_split, cross_val_score, cross_val_predict\n",
    "from sklearn.metrics import r2_score\n",
    "\n",
    "import warnings\n",
    "warnings.filterwarnings('ignore')"
   ]
  },
  {
   "cell_type": "code",
   "execution_count": 2,
   "metadata": {},
   "outputs": [
    {
     "data": {
      "text/plain": [
       "Series([], dtype: int64)"
      ]
     },
     "execution_count": 2,
     "metadata": {},
     "output_type": "execute_result"
    }
   ],
   "source": [
    "# Read in engineered Data\n",
    "df_train = pd.read_csv('../datasets/train_dummies.csv')\n",
    "\n",
    "#Set id as index \n",
    "df_train.set_index('id', inplace=True)\n",
    "\n",
    "# Check for nulls\n",
    "(df_train.isnull().sum())[df_train.isnull().sum() > 0].sort_values(ascending=False)"
   ]
  },
  {
   "cell_type": "code",
   "execution_count": 3,
   "metadata": {},
   "outputs": [
    {
     "data": {
      "text/plain": [
       "(2043, 510)"
      ]
     },
     "execution_count": 3,
     "metadata": {},
     "output_type": "execute_result"
    }
   ],
   "source": [
    "df_train.shape"
   ]
  },
  {
   "cell_type": "markdown",
   "metadata": {},
   "source": [
    "### 2. Create features and target vector"
   ]
  },
  {
   "cell_type": "code",
   "execution_count": 4,
   "metadata": {},
   "outputs": [],
   "source": [
    "features = [col for col in df_train._get_numeric_data().columns if col != 'saleprice']\n",
    "\n",
    "X = df_train[features]\n",
    "y = df_train['saleprice']\n",
    "\n",
    "X_train, X_test, y_train, y_test = train_test_split(X, y)"
   ]
  },
  {
   "cell_type": "markdown",
   "metadata": {},
   "source": [
    "### 3. Scaling"
   ]
  },
  {
   "cell_type": "code",
   "execution_count": 5,
   "metadata": {},
   "outputs": [],
   "source": [
    "ss =StandardScaler()\n",
    "ss.fit(X_train)\n",
    "X_train_ss = ss.transform(X_train)\n",
    "X_test_ss = ss.transform(X_test)"
   ]
  },
  {
   "cell_type": "markdown",
   "metadata": {},
   "source": [
    "### 4. Instantiate Models"
   ]
  },
  {
   "cell_type": "code",
   "execution_count": 6,
   "metadata": {},
   "outputs": [],
   "source": [
    "lr = LinearRegression()\n",
    "lasso = LassoCV(n_alphas = 200)\n",
    "ridge = RidgeCV(alphas = np.linspace(.1, 10, 100))"
   ]
  },
  {
   "cell_type": "markdown",
   "metadata": {},
   "source": [
    "### 5. Cross Validation Across All Models"
   ]
  },
  {
   "cell_type": "code",
   "execution_count": 7,
   "metadata": {},
   "outputs": [
    {
     "data": {
      "text/plain": [
       "-1.9998557375345477e+25"
      ]
     },
     "execution_count": 7,
     "metadata": {},
     "output_type": "execute_result"
    }
   ],
   "source": [
    "# Linear Regression\n",
    "lr_scores = cross_val_score(lr, X_train_ss, y_train, cv=5)\n",
    "lr_scores.mean()"
   ]
  },
  {
   "cell_type": "code",
   "execution_count": 8,
   "metadata": {},
   "outputs": [
    {
     "name": "stdout",
     "output_type": "stream",
     "text": [
      "387.20387818125573\n"
     ]
    }
   ],
   "source": [
    "# Ridge\n",
    "# Find optimal value for ridge regression alpha\n",
    "ridge_alphas = np.logspace(0, 5, 200)\n",
    "\n",
    "optimal_ridge = RidgeCV(alphas=ridge_alphas, cv=10)\n",
    "optimal_ridge.fit(X_train_ss, y_train)\n",
    "\n",
    "print (optimal_ridge.alpha_)"
   ]
  },
  {
   "cell_type": "code",
   "execution_count": 9,
   "metadata": {},
   "outputs": [
    {
     "data": {
      "text/plain": [
       "0.9016977463806078"
      ]
     },
     "execution_count": 9,
     "metadata": {},
     "output_type": "execute_result"
    }
   ],
   "source": [
    "# Cross-validate the Ridge regression with the optimal alpha.\n",
    "ridge = Ridge(alpha=optimal_ridge.alpha_)\n",
    "\n",
    "ridge_scores = cross_val_score(ridge, X_train_ss, y_train, cv=5)\n",
    "ridge_scores.mean()"
   ]
  },
  {
   "cell_type": "code",
   "execution_count": 10,
   "metadata": {
    "scrolled": true
   },
   "outputs": [
    {
     "name": "stderr",
     "output_type": "stream",
     "text": [
      "[Parallel(n_jobs=1)]: Using backend SequentialBackend with 1 concurrent workers.\n",
      "........................................................................................................................................................................................................................................................................................................................................................................................................................................................................................................................................................................................................................................................................................................................................................................................................................................................................................................................................................................................................................................................................................................................................................................................................................................................................................................................................................................................................................................................................................................................................................................................................................................................................................................................................................................................................................................................................................................................................................................................................................................................................................................................................................................................................................................................................................................................................................................................................................................................................................................................................................................................................................................................................................................................................................................................................................................................................................................................................................................................................................................................................................................................................................................................................................................................................................................................................................................................................................................................................................................................................................................................................................................................................................................................................................................................................................................................................................................................................................................................................................................................................................................................................................................................................................................................................................................................................................................................................................................................................................................................................................................................................................................................................................................................................................................................................................................................................................................................................................................................................................................................................................................................................................................................................"
     ]
    },
    {
     "name": "stdout",
     "output_type": "stream",
     "text": [
      "505.069406016207\n"
     ]
    },
    {
     "name": "stderr",
     "output_type": "stream",
     "text": [
      "[Parallel(n_jobs=1)]: Done  10 out of  10 | elapsed:    6.7s finished\n"
     ]
    }
   ],
   "source": [
    "# Lasso\n",
    "# Find optimal value for lasso regression alpha\n",
    "optimal_lasso = LassoCV(n_alphas=500, cv=10, verbose=1)\n",
    "optimal_lasso.fit(X_train_ss, y_train)\n",
    "\n",
    "print (optimal_lasso.alpha_)"
   ]
  },
  {
   "cell_type": "code",
   "execution_count": 11,
   "metadata": {},
   "outputs": [
    {
     "data": {
      "text/plain": [
       "0.9105346979174638"
      ]
     },
     "execution_count": 11,
     "metadata": {},
     "output_type": "execute_result"
    }
   ],
   "source": [
    "# Lasso\n",
    "lasso = Lasso(alpha=optimal_lasso.alpha_)\n",
    "\n",
    "lasso_scores = cross_val_score(lasso, X_train_ss, y_train, cv=5)\n",
    "lasso_scores.mean()"
   ]
  },
  {
   "cell_type": "markdown",
   "metadata": {},
   "source": [
    "The mean R^2 of Linear Regression model is extremely negative which might be an indication of overfitting where there are a large number of redundant variables that are affecting the coefficients in a certain ways.\n",
    "\n",
    "However as Ridge is able to manage multicollinearity, the mean R^2 improves drastically\n",
    "\n",
    "The Lasso here performs only slightly better than the Ridge but that is because it is pretty similar to Ridge. But on top of that it does feature selection which of valuable variables, which also eliminate those that are not useful."
   ]
  },
  {
   "cell_type": "code",
   "execution_count": 12,
   "metadata": {},
   "outputs": [
    {
     "data": {
      "text/html": [
       "<div>\n",
       "<style scoped>\n",
       "    .dataframe tbody tr th:only-of-type {\n",
       "        vertical-align: middle;\n",
       "    }\n",
       "\n",
       "    .dataframe tbody tr th {\n",
       "        vertical-align: top;\n",
       "    }\n",
       "\n",
       "    .dataframe thead th {\n",
       "        text-align: right;\n",
       "    }\n",
       "</style>\n",
       "<table border=\"1\" class=\"dataframe\">\n",
       "  <thead>\n",
       "    <tr style=\"text-align: right;\">\n",
       "      <th></th>\n",
       "      <th>variable</th>\n",
       "      <th>coef</th>\n",
       "      <th>abs_coef</th>\n",
       "    </tr>\n",
       "  </thead>\n",
       "  <tbody>\n",
       "    <tr>\n",
       "      <th>36</th>\n",
       "      <td>total_sf</td>\n",
       "      <td>17720.200205</td>\n",
       "      <td>17720.200205</td>\n",
       "    </tr>\n",
       "    <tr>\n",
       "      <th>2</th>\n",
       "      <td>overall_qual</td>\n",
       "      <td>13339.073316</td>\n",
       "      <td>13339.073316</td>\n",
       "    </tr>\n",
       "    <tr>\n",
       "      <th>15</th>\n",
       "      <td>gr_liv_area</td>\n",
       "      <td>12021.541243</td>\n",
       "      <td>12021.541243</td>\n",
       "    </tr>\n",
       "    <tr>\n",
       "      <th>7</th>\n",
       "      <td>bsmtfin_sf_1</td>\n",
       "      <td>8709.038710</td>\n",
       "      <td>8709.038710</td>\n",
       "    </tr>\n",
       "    <tr>\n",
       "      <th>222</th>\n",
       "      <td>neighborhood_NridgHt</td>\n",
       "      <td>8188.124401</td>\n",
       "      <td>8188.124401</td>\n",
       "    </tr>\n",
       "    <tr>\n",
       "      <th>228</th>\n",
       "      <td>neighborhood_StoneBr</td>\n",
       "      <td>6371.245692</td>\n",
       "      <td>6371.245692</td>\n",
       "    </tr>\n",
       "    <tr>\n",
       "      <th>37</th>\n",
       "      <td>housing_age</td>\n",
       "      <td>-5679.758598</td>\n",
       "      <td>5679.758598</td>\n",
       "    </tr>\n",
       "    <tr>\n",
       "      <th>5</th>\n",
       "      <td>exter_qual</td>\n",
       "      <td>5342.819931</td>\n",
       "      <td>5342.819931</td>\n",
       "    </tr>\n",
       "    <tr>\n",
       "      <th>3</th>\n",
       "      <td>overall_cond</td>\n",
       "      <td>5102.435812</td>\n",
       "      <td>5102.435812</td>\n",
       "    </tr>\n",
       "    <tr>\n",
       "      <th>4</th>\n",
       "      <td>mas_vnr_area</td>\n",
       "      <td>4905.721156</td>\n",
       "      <td>4905.721156</td>\n",
       "    </tr>\n",
       "    <tr>\n",
       "      <th>50</th>\n",
       "      <td>ms_subclass_120</td>\n",
       "      <td>-4543.652353</td>\n",
       "      <td>4543.652353</td>\n",
       "    </tr>\n",
       "    <tr>\n",
       "      <th>339</th>\n",
       "      <td>year_built_2008</td>\n",
       "      <td>4417.813501</td>\n",
       "      <td>4417.813501</td>\n",
       "    </tr>\n",
       "    <tr>\n",
       "      <th>201</th>\n",
       "      <td>sale_type_New</td>\n",
       "      <td>4196.447633</td>\n",
       "      <td>4196.447633</td>\n",
       "    </tr>\n",
       "    <tr>\n",
       "      <th>1</th>\n",
       "      <td>lot_area</td>\n",
       "      <td>4105.691935</td>\n",
       "      <td>4105.691935</td>\n",
       "    </tr>\n",
       "    <tr>\n",
       "      <th>22</th>\n",
       "      <td>kitchen_qual</td>\n",
       "      <td>4067.964528</td>\n",
       "      <td>4067.964528</td>\n",
       "    </tr>\n",
       "    <tr>\n",
       "      <th>498</th>\n",
       "      <td>garage_yr_blt_2009.0</td>\n",
       "      <td>3878.450069</td>\n",
       "      <td>3878.450069</td>\n",
       "    </tr>\n",
       "    <tr>\n",
       "      <th>26</th>\n",
       "      <td>garage_area</td>\n",
       "      <td>3710.267132</td>\n",
       "      <td>3710.267132</td>\n",
       "    </tr>\n",
       "    <tr>\n",
       "      <th>213</th>\n",
       "      <td>neighborhood_GrnHill</td>\n",
       "      <td>3348.927432</td>\n",
       "      <td>3348.927432</td>\n",
       "    </tr>\n",
       "    <tr>\n",
       "      <th>31</th>\n",
       "      <td>screen_porch</td>\n",
       "      <td>3347.081226</td>\n",
       "      <td>3347.081226</td>\n",
       "    </tr>\n",
       "    <tr>\n",
       "      <th>221</th>\n",
       "      <td>neighborhood_NoRidge</td>\n",
       "      <td>3309.989874</td>\n",
       "      <td>3309.989874</td>\n",
       "    </tr>\n",
       "  </tbody>\n",
       "</table>\n",
       "</div>"
      ],
      "text/plain": [
       "                 variable          coef      abs_coef\n",
       "36               total_sf  17720.200205  17720.200205\n",
       "2            overall_qual  13339.073316  13339.073316\n",
       "15            gr_liv_area  12021.541243  12021.541243\n",
       "7            bsmtfin_sf_1   8709.038710   8709.038710\n",
       "222  neighborhood_NridgHt   8188.124401   8188.124401\n",
       "228  neighborhood_StoneBr   6371.245692   6371.245692\n",
       "37            housing_age  -5679.758598   5679.758598\n",
       "5              exter_qual   5342.819931   5342.819931\n",
       "3            overall_cond   5102.435812   5102.435812\n",
       "4            mas_vnr_area   4905.721156   4905.721156\n",
       "50        ms_subclass_120  -4543.652353   4543.652353\n",
       "339       year_built_2008   4417.813501   4417.813501\n",
       "201         sale_type_New   4196.447633   4196.447633\n",
       "1                lot_area   4105.691935   4105.691935\n",
       "22           kitchen_qual   4067.964528   4067.964528\n",
       "498  garage_yr_blt_2009.0   3878.450069   3878.450069\n",
       "26            garage_area   3710.267132   3710.267132\n",
       "213  neighborhood_GrnHill   3348.927432   3348.927432\n",
       "31           screen_porch   3347.081226   3347.081226\n",
       "221  neighborhood_NoRidge   3309.989874   3309.989874"
      ]
     },
     "execution_count": 12,
     "metadata": {},
     "output_type": "execute_result"
    }
   ],
   "source": [
    "# Refit outside cross_val_score\n",
    "lasso.fit(X_train_ss, y_train)\n",
    "\n",
    "# coefficients for variables in the Lasso\n",
    "lasso_coefs = pd.DataFrame({'variable':X.columns,\n",
    "                            'coef':lasso.coef_,\n",
    "                            'abs_coef':np.abs(lasso.coef_)})\n",
    "\n",
    "lasso_coefs.sort_values('abs_coef', inplace=True, ascending=False)\n",
    "\n",
    "lasso_coefs.head(20)"
   ]
  },
  {
   "cell_type": "code",
   "execution_count": 13,
   "metadata": {
    "scrolled": false
   },
   "outputs": [
    {
     "name": "stdout",
     "output_type": "stream",
     "text": [
      "Percent variables zeroed out: 0.1644640234948605\n"
     ]
    }
   ],
   "source": [
    "print ('Percent variables zeroed out:', np.sum((lasso.coef_ == 0))/float(X.shape[0]))"
   ]
  },
  {
   "cell_type": "code",
   "execution_count": 14,
   "metadata": {},
   "outputs": [],
   "source": [
    "lasso_coefs.to_csv('../datasets/lasso_coefs.csv')"
   ]
  },
  {
   "cell_type": "markdown",
   "metadata": {},
   "source": [
    "## Inferential Visualizations"
   ]
  },
  {
   "cell_type": "markdown",
   "metadata": {},
   "source": [
    "### 1. Model Fitting and Evaluate"
   ]
  },
  {
   "cell_type": "markdown",
   "metadata": {},
   "source": [
    "Select to go forward with LassoCV as it seem to be doing the best among all the other models."
   ]
  },
  {
   "cell_type": "code",
   "execution_count": 15,
   "metadata": {},
   "outputs": [
    {
     "data": {
      "text/plain": [
       "0.9366502660210179"
      ]
     },
     "execution_count": 15,
     "metadata": {},
     "output_type": "execute_result"
    }
   ],
   "source": [
    "lasso.fit(X_train_ss, y_train)\n",
    "lasso.score(X_train_ss, y_train)"
   ]
  },
  {
   "cell_type": "code",
   "execution_count": 16,
   "metadata": {
    "scrolled": true
   },
   "outputs": [
    {
     "data": {
      "text/plain": [
       "0.9023003745819189"
      ]
     },
     "execution_count": 16,
     "metadata": {},
     "output_type": "execute_result"
    }
   ],
   "source": [
    "lasso.score(X_test_ss, y_test)"
   ]
  },
  {
   "cell_type": "code",
   "execution_count": 17,
   "metadata": {},
   "outputs": [
    {
     "data": {
      "text/plain": [
       "0.9023003745819189"
      ]
     },
     "execution_count": 17,
     "metadata": {},
     "output_type": "execute_result"
    }
   ],
   "source": [
    "#Predict target values\n",
    "pred = lasso.predict(X_test_ss)\n",
    "r2_score(y_test, pred)"
   ]
  },
  {
   "cell_type": "code",
   "execution_count": 18,
   "metadata": {},
   "outputs": [
    {
     "data": {
      "image/png": "[encoded data removed]",
      "text/plain": [
       "<Figure size 1080x432 with 1 Axes>"
      ]
     },
     "metadata": {
      "needs_background": "light"
     },
     "output_type": "display_data"
    }
   ],
   "source": [
    "#Plot of the Errors\n",
    "residuals = y_test - pred\n",
    "\n",
    "plt.figure(figsize=(15,6))\n",
    "plt.scatter(pred, residuals);"
   ]
  },
  {
   "cell_type": "markdown",
   "metadata": {},
   "source": [
    "### 2. Ridge and Lasso Comparison "
   ]
  },
  {
   "cell_type": "code",
   "execution_count": 19,
   "metadata": {},
   "outputs": [
    {
     "data": {
      "text/plain": [
       "0.9404626049733835"
      ]
     },
     "execution_count": 19,
     "metadata": {},
     "output_type": "execute_result"
    }
   ],
   "source": [
    "ridge.fit(X_train_ss, y_train)\n",
    "ridge.score(X_train_ss, y_train)"
   ]
  },
  {
   "cell_type": "code",
   "execution_count": 20,
   "metadata": {},
   "outputs": [
    {
     "data": {
      "text/plain": [
       "0.8987505347604199"
      ]
     },
     "execution_count": 20,
     "metadata": {},
     "output_type": "execute_result"
    }
   ],
   "source": [
    "ridge.score(X_test_ss, y_test)"
   ]
  },
  {
   "cell_type": "code",
   "execution_count": 21,
   "metadata": {},
   "outputs": [
    {
     "data": {
      "text/plain": [
       "0.8987505347604199"
      ]
     },
     "execution_count": 21,
     "metadata": {},
     "output_type": "execute_result"
    }
   ],
   "source": [
    "pred_r = ridge.predict(X_test_ss)\n",
    "r2_score(y_test, pred_r)"
   ]
  },
  {
   "cell_type": "markdown",
   "metadata": {},
   "source": [
    "Lasso perform slightly better than ridge but not by much"
   ]
  },
  {
   "cell_type": "markdown",
   "metadata": {},
   "source": [
    "## Test Data"
   ]
  },
  {
   "cell_type": "markdown",
   "metadata": {},
   "source": [
    "### 1. Create Function to Apply changes to test set"
   ]
  },
  {
   "cell_type": "code",
   "execution_count": 22,
   "metadata": {},
   "outputs": [],
   "source": [
    "def apply_change_df (data):\n",
    "    \n",
    "    ##Rename Columns\n",
    "    data.columns = [x.replace(' ', '_').lower() for x in data.columns]\n",
    "    \n",
    "    ##Drop Columns\n",
    "    data.drop(columns = ['pid'], axis=1, inplace=True)\n",
    "    \n",
    "    ##Fillna for Misc Feature, Alley, Fence and Fireplace Quality\n",
    "    for i in ['misc_feature','alley','fence']:\n",
    "        data[i] = data[i].fillna('None')\n",
    "    \n",
    "    ##Fillna for lot_frontage\n",
    "    frontage_mean = data.lot_frontage.mean()\n",
    "    data['lot_frontage'].fillna(frontage_mean, inplace = True)\n",
    "    \n",
    "    ##Fillna for garage variables\n",
    "    for j in ['garage_finish','garage_yr_blt','garage_type']:\n",
    "        data[j] = data[j].fillna('None')\n",
    "    \n",
    "    \n",
    "    ##Fillna for bsmt variables\n",
    "    for i in ['bsmtfin_type_2','bsmtfin_type_1']:\n",
    "        data[i] = data[i].fillna('None')\n",
    "\n",
    "\n",
    "    ##Fillna for mas variables    \n",
    "    data['mas_vnr_type'] = data['mas_vnr_type'].fillna('None')\n",
    "    data['mas_vnr_area'] = data['mas_vnr_area'].fillna(0)\n",
    "    \n",
    "    #Convert ordinal values in variables\n",
    "    # Variables with Ex, Gd, TA, Fa, & Po\n",
    "    for x in ['exter_qual','exter_cond','kitchen_qual', 'heating_qc']:\n",
    "        data[x] = data[x].map({'Ex':5,'Gd':4,'TA':3,'Fa':2,'Po':1})\n",
    "    #Fillna\n",
    "    for i in ['exter_qual','exter_cond','kitchen_qual', 'heating_qc']:\n",
    "        data[i] = data[i].fillna('None')\n",
    "    \n",
    "    # Variables with Ex, Gd, TA, Fa, Po, & NA\n",
    "    for y in ['bsmt_qual','bsmt_cond','fireplace_qu', 'garage_qual', 'garage_cond']:\n",
    "        data[y] = data[y].map({'Ex':5,'Gd':4,'TA':3,'Fa':2,'Po':1, 'NA':0})\n",
    "    #Fillna\n",
    "    for i in ['bsmt_qual','bsmt_cond','fireplace_qu', 'garage_qual', 'garage_cond']:\n",
    "        data[i] = data[i].fillna('None')\n",
    "    \n",
    "    # Exposure \n",
    "    data['bsmt_exposure'] = data['bsmt_exposure'].map({'Gd':3,'Av':2,'Mn':1,'No':0,'None':0})\n",
    "    data['bsmt_exposure'] = data['bsmt_exposure'].fillna('None')\n",
    "    \n",
    "    # Pool_qc\n",
    "    data['pool_qc'] = data['pool_qc'].map({'Ex':4,'Gd':3,'TA':2,'Fa':1,'NA':0})\n",
    "    data['pool_qc'] = data['pool_qc'].fillna('None')\n",
    "    \n",
    "    # Binarize Central air \n",
    "    data['central_air'] = data['central_air'].map(lambda x: '1' if x == 'Y' else '0')\n",
    "    \n",
    "    # Binarize Street\n",
    "    data['street'] = data['street'].map(lambda x: '1' if x == 'Pave' else '2')\n",
    "    \n",
    "    # concatenating the square feet of the house\n",
    "    data['total_sf'] = (data['total_bsmt_sf'] + \n",
    "                     data['1st_flr_sf'] + \n",
    "                     data['2nd_flr_sf'] + \n",
    "                     data['wood_deck_sf'] + \n",
    "                     data['open_porch_sf'])\n",
    "    \n",
    "    # Calculate total age of house\n",
    "    data['housing_age'] = data['yr_sold'] - data['year_built']\n",
    "    \n",
    "    # Calculate age after Remodeling \n",
    "    data['age_after_remod'] = data['yr_sold'] - data['year_remod/add']\n",
    "\n",
    "    \n",
    "    #Create seasons variable to group months \n",
    "    data['seasons'] = data['mo_sold'].map(lambda x : '4' if x <= 2 else '1' \n",
    "                                        if x < 6 else \"2\" \n",
    "                                        if x < 9 else \"3\" \n",
    "                                        if x < 12 else \"4\")\n",
    "    \n",
    "    #Create dummies for categorical variables\n",
    "    data = pd.get_dummies(data, columns=['ms_subclass','ms_zoning','street','alley', \n",
    "                                               'lot_shape', 'land_contour', 'utilities','lot_config',\n",
    "                                               'land_slope','condition_1','condition_2','bldg_type',\n",
    "                                               'house_style','roof_style','roof_matl','exterior_1st',\n",
    "                                               'exterior_2nd','mas_vnr_type','foundation','bsmtfin_type_1',\n",
    "                                               'bsmtfin_type_2','heating','central_air','electrical',\n",
    "                                               'functional','garage_type','garage_finish','paved_drive',\n",
    "                                               'fence', 'misc_feature','sale_type', 'neighborhood',\n",
    "                                               'year_built', 'year_remod/add', 'garage_yr_blt'], \n",
    "                               drop_first=True)\n",
    "\n",
    "    return data"
   ]
  },
  {
   "cell_type": "markdown",
   "metadata": {},
   "source": [
    "### 2. load test data"
   ]
  },
  {
   "cell_type": "code",
   "execution_count": 23,
   "metadata": {},
   "outputs": [
    {
     "data": {
      "text/plain": [
       "(879, 80)"
      ]
     },
     "execution_count": 23,
     "metadata": {},
     "output_type": "execute_result"
    }
   ],
   "source": [
    "df_test = pd.read_csv(\"../datasets/test.csv\")\n",
    "df_test.shape"
   ]
  },
  {
   "cell_type": "code",
   "execution_count": 24,
   "metadata": {},
   "outputs": [
    {
     "data": {
      "text/plain": [
       "(879, 485)"
      ]
     },
     "execution_count": 24,
     "metadata": {},
     "output_type": "execute_result"
    }
   ],
   "source": [
    "df_test = apply_change_df(df_test)\n",
    "df_test.shape"
   ]
  },
  {
   "cell_type": "code",
   "execution_count": 25,
   "metadata": {},
   "outputs": [
    {
     "data": {
      "text/plain": [
       "(2043, 510)"
      ]
     },
     "execution_count": 25,
     "metadata": {},
     "output_type": "execute_result"
    }
   ],
   "source": [
    "# #double check against train df\n",
    "# df_train = pd.read_csv('../datasets/df_train.csv')\n",
    "df_train.shape"
   ]
  },
  {
   "cell_type": "markdown",
   "metadata": {},
   "source": [
    "The number of columns in the train data does not tally with the column data. Hence further exploration is required. "
   ]
  },
  {
   "cell_type": "markdown",
   "metadata": {},
   "source": [
    "### 3. Missing columns in test data"
   ]
  },
  {
   "cell_type": "code",
   "execution_count": 26,
   "metadata": {},
   "outputs": [
    {
     "data": {
      "text/plain": [
       "['ms_subclass_150',\n",
       " 'ms_zoning_C (all)',\n",
       " 'utilities_NoSeWa',\n",
       " 'condition_2_Feedr',\n",
       " 'condition_2_RRAe',\n",
       " 'condition_2_RRAn',\n",
       " 'condition_2_RRNn',\n",
       " 'roof_matl_Membran',\n",
       " 'exterior_1st_CBlock',\n",
       " 'exterior_1st_ImStucc',\n",
       " 'exterior_1st_Stone',\n",
       " 'exterior_2nd_Stone',\n",
       " 'heating_OthW',\n",
       " 'heating_Wall',\n",
       " 'electrical_Mix',\n",
       " 'functional_Sal',\n",
       " 'functional_Sev',\n",
       " 'paved_drive_1',\n",
       " 'paved_drive_2',\n",
       " 'misc_feature_TenC',\n",
       " 'neighborhood_GrnHill',\n",
       " 'neighborhood_Landmrk',\n",
       " 'year_built_1875',\n",
       " 'year_built_1879',\n",
       " 'year_built_1880',\n",
       " 'year_built_1893',\n",
       " 'year_built_1895',\n",
       " 'year_built_1896',\n",
       " 'year_built_1898',\n",
       " 'year_built_1901',\n",
       " 'year_built_1911',\n",
       " 'year_built_1913',\n",
       " 'year_built_1929',\n",
       " 'year_built_1942',\n",
       " 'garage_yr_blt_1896.0',\n",
       " 'garage_yr_blt_1900.0',\n",
       " 'garage_yr_blt_1914.0',\n",
       " 'garage_yr_blt_1919.0',\n",
       " 'garage_yr_blt_1929.0',\n",
       " 'garage_yr_blt_1933.0',\n",
       " 'garage_yr_blt_1936.0',\n",
       " 'garage_yr_blt_1942.0',\n",
       " 'garage_yr_blt_1945.0',\n",
       " 'garage_yr_blt_2207.0']"
      ]
     },
     "execution_count": 26,
     "metadata": {},
     "output_type": "execute_result"
    }
   ],
   "source": [
    "# As only certain columns are used to run the models, \n",
    "# we will be looking at the features instead\n",
    "features = [col for col in df_train._get_numeric_data().columns if col != 'saleprice']\n",
    "\n",
    "missing_features = [col for col in features if ~np.isin(col,df_test.columns)]\n",
    "missing_features"
   ]
  },
  {
   "cell_type": "code",
   "execution_count": 27,
   "metadata": {},
   "outputs": [
    {
     "data": {
      "text/plain": [
       "(879, 502)"
      ]
     },
     "execution_count": 27,
     "metadata": {},
     "output_type": "execute_result"
    }
   ],
   "source": [
    "df_test = pd.concat([df_test, pd.DataFrame(columns = missing_features)]).fillna(0)\n",
    "df_test[features].shape"
   ]
  },
  {
   "cell_type": "code",
   "execution_count": 28,
   "metadata": {},
   "outputs": [
    {
     "data": {
      "text/plain": [
       "Series([], dtype: int64)"
      ]
     },
     "execution_count": 28,
     "metadata": {},
     "output_type": "execute_result"
    }
   ],
   "source": [
    "#Check for null values\n",
    "(df_test.isnull().sum())[df_test.isnull().sum() > 0].sort_values(ascending=False)"
   ]
  },
  {
   "cell_type": "code",
   "execution_count": 29,
   "metadata": {},
   "outputs": [
    {
     "data": {
      "text/plain": [
       "0"
      ]
     },
     "execution_count": 29,
     "metadata": {},
     "output_type": "execute_result"
    }
   ],
   "source": [
    "# Check for any duplicates\n",
    "df_test.duplicated().sum()"
   ]
  },
  {
   "cell_type": "code",
   "execution_count": 30,
   "metadata": {},
   "outputs": [],
   "source": [
    "#features = [col for col in df_test._get_numeric_data().columns if col != 'saleprice']\n",
    "prediction = df_test[features]\n",
    "X_testdf_ss = ss.transform(df_test[features])\n",
    "df_test['saleprice'] = lasso.predict(X_testdf_ss)\n",
    "df_test['id'] = df_test['id'].astype(int)\n",
    "kaggle_submission = df_test[['id','saleprice']].set_index('id')"
   ]
  },
  {
   "cell_type": "code",
   "execution_count": 31,
   "metadata": {},
   "outputs": [],
   "source": [
    "kaggle_submission.to_csv('../datasets/kaggle_submission.csv')"
   ]
  }
 ],
 "metadata": {
  "kernelspec": {
   "display_name": "Python 3",
   "language": "python",
   "name": "python3"
  },
  "language_info": {
   "codemirror_mode": {
    "name": "ipython",
    "version": 3
   },
   "file_extension": ".py",
   "mimetype": "text/x-python",
   "name": "python",
   "nbconvert_exporter": "python",
   "pygments_lexer": "ipython3",
   "version": "3.7.4"
  }
 },
 "nbformat": 4,
 "nbformat_minor": 2
}
