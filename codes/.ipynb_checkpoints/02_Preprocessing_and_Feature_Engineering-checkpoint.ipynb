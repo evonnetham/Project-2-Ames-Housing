{
 "cells": [
  {
   "cell_type": "markdown",
   "metadata": {},
   "source": [
    "# Project 2: Ames Property Watch\n",
    "### Part 2 Precessing and Feature Engineering\n",
    "_Author: Evonne Tham_\n",
    "\n",
    "---\n"
   ]
  },
  {
   "cell_type": "markdown",
   "metadata": {},
   "source": [
    "## Feature Engineering"
   ]
  },
  {
   "cell_type": "markdown",
   "metadata": {},
   "source": [
    "### 1. Reimport from File"
   ]
  },
  {
   "cell_type": "code",
   "execution_count": 1,
   "metadata": {},
   "outputs": [
    {
     "name": "stderr",
     "output_type": "stream",
     "text": [
      "/opt/anaconda3/lib/python3.7/site-packages/statsmodels/tools/_testing.py:19: FutureWarning: pandas.util.testing is deprecated. Use the functions in the public API at pandas.testing instead.\n",
      "  import pandas.util.testing as tm\n"
     ]
    }
   ],
   "source": [
    "# Reimport all Libraries \n",
    "\n",
    "import pandas as pd \n",
    "import numpy as np\n",
    "import matplotlib.pyplot as plt \n",
    "import seaborn as sns \n",
    "\n",
    "sns.set_style('darkgrid')\n",
    "\n",
    "import warnings\n",
    "warnings.filterwarnings('ignore')"
   ]
  },
  {
   "cell_type": "code",
   "execution_count": 2,
   "metadata": {},
   "outputs": [
    {
     "data": {
      "text/plain": [
       "Series([], dtype: int64)"
      ]
     },
     "execution_count": 2,
     "metadata": {},
     "output_type": "execute_result"
    }
   ],
   "source": [
    "# Read in Cleaned Data\n",
    "train_cleaned = pd.read_csv('../datasets/train_cleaned.csv')\n",
    "\n",
    "#Set id as index \n",
    "train_cleaned.set_index('id', inplace=True)\n",
    "\n",
    "# Check for nulls\n",
    "(train_cleaned.isnull().sum())[train_cleaned.isnull().sum() > 0].sort_values(ascending=False)"
   ]
  },
  {
   "cell_type": "code",
   "execution_count": 3,
   "metadata": {
    "scrolled": true
   },
   "outputs": [
    {
     "data": {
      "text/plain": [
       "(2044, 79)"
      ]
     },
     "execution_count": 3,
     "metadata": {},
     "output_type": "execute_result"
    }
   ],
   "source": [
    "train_cleaned.shape"
   ]
  },
  {
   "cell_type": "markdown",
   "metadata": {},
   "source": [
    "### 2. Create New Feature"
   ]
  },
  {
   "cell_type": "code",
   "execution_count": 4,
   "metadata": {},
   "outputs": [
    {
     "data": {
      "text/plain": [
       "(2044, 80)"
      ]
     },
     "execution_count": 4,
     "metadata": {},
     "output_type": "execute_result"
    }
   ],
   "source": [
    "# As I would look at the total square feet of the house \n",
    "# before futher exploring what is included hence\n",
    "# I will be concatenating the square feet of the house\n",
    "train_cleaned['total_sf'] = (train_cleaned['total_bsmt_sf'] + \n",
    "                     train_cleaned['1st_flr_sf'] + \n",
    "                     train_cleaned['2nd_flr_sf'] + \n",
    "                     train_cleaned['wood_deck_sf'] + \n",
    "                     train_cleaned['open_porch_sf'])\n",
    "train_cleaned.shape"
   ]
  },
  {
   "cell_type": "code",
   "execution_count": 5,
   "metadata": {
    "scrolled": true
   },
   "outputs": [
    {
     "data": {
      "text/plain": [
       "count    2044.000000\n",
       "mean       36.004892\n",
       "std        30.156534\n",
       "min         0.000000\n",
       "25%         7.000000\n",
       "50%        34.000000\n",
       "75%        54.000000\n",
       "max       136.000000\n",
       "Name: housing_age, dtype: float64"
      ]
     },
     "execution_count": 5,
     "metadata": {},
     "output_type": "execute_result"
    }
   ],
   "source": [
    "# Knowing how old a building\n",
    "# Create column to age to standardise against different years sold\n",
    "\n",
    "train_cleaned['housing_age'] = train_cleaned['yr_sold'] - train_cleaned['year_built']\n",
    "train_cleaned['housing_age'].describe()"
   ]
  },
  {
   "cell_type": "code",
   "execution_count": 6,
   "metadata": {},
   "outputs": [
    {
     "data": {
      "text/plain": [
       "count    2044.000000\n",
       "mean       23.614971\n",
       "std        21.022818\n",
       "min        -1.000000\n",
       "25%         4.000000\n",
       "50%        15.000000\n",
       "75%        43.000000\n",
       "max        60.000000\n",
       "Name: age_after_remod, dtype: float64"
      ]
     },
     "execution_count": 6,
     "metadata": {},
     "output_type": "execute_result"
    }
   ],
   "source": [
    "# knowing how old after remodeling\n",
    "train_cleaned['age_after_remod'] = train_cleaned['yr_sold'] - train_cleaned['year_remod/add']\n",
    "train_cleaned['age_after_remod'].describe()"
   ]
  },
  {
   "cell_type": "code",
   "execution_count": 7,
   "metadata": {},
   "outputs": [
    {
     "data": {
      "text/html": [
       "<div>\n",
       "<style scoped>\n",
       "    .dataframe tbody tr th:only-of-type {\n",
       "        vertical-align: middle;\n",
       "    }\n",
       "\n",
       "    .dataframe tbody tr th {\n",
       "        vertical-align: top;\n",
       "    }\n",
       "\n",
       "    .dataframe thead th {\n",
       "        text-align: right;\n",
       "    }\n",
       "</style>\n",
       "<table border=\"1\" class=\"dataframe\">\n",
       "  <thead>\n",
       "    <tr style=\"text-align: right;\">\n",
       "      <th></th>\n",
       "      <th>ms_subclass</th>\n",
       "      <th>ms_zoning</th>\n",
       "      <th>lot_frontage</th>\n",
       "      <th>lot_area</th>\n",
       "      <th>street</th>\n",
       "      <th>alley</th>\n",
       "      <th>lot_shape</th>\n",
       "      <th>land_contour</th>\n",
       "      <th>utilities</th>\n",
       "      <th>lot_config</th>\n",
       "      <th>...</th>\n",
       "      <th>fence</th>\n",
       "      <th>misc_feature</th>\n",
       "      <th>misc_val</th>\n",
       "      <th>mo_sold</th>\n",
       "      <th>yr_sold</th>\n",
       "      <th>sale_type</th>\n",
       "      <th>saleprice</th>\n",
       "      <th>total_sf</th>\n",
       "      <th>housing_age</th>\n",
       "      <th>age_after_remod</th>\n",
       "    </tr>\n",
       "    <tr>\n",
       "      <th>id</th>\n",
       "      <th></th>\n",
       "      <th></th>\n",
       "      <th></th>\n",
       "      <th></th>\n",
       "      <th></th>\n",
       "      <th></th>\n",
       "      <th></th>\n",
       "      <th></th>\n",
       "      <th></th>\n",
       "      <th></th>\n",
       "      <th></th>\n",
       "      <th></th>\n",
       "      <th></th>\n",
       "      <th></th>\n",
       "      <th></th>\n",
       "      <th></th>\n",
       "      <th></th>\n",
       "      <th></th>\n",
       "      <th></th>\n",
       "      <th></th>\n",
       "      <th></th>\n",
       "    </tr>\n",
       "  </thead>\n",
       "  <tbody>\n",
       "    <tr>\n",
       "      <th>1703</th>\n",
       "      <td>60</td>\n",
       "      <td>RL</td>\n",
       "      <td>134.0</td>\n",
       "      <td>16659</td>\n",
       "      <td>1</td>\n",
       "      <td>None</td>\n",
       "      <td>IR1</td>\n",
       "      <td>Lvl</td>\n",
       "      <td>AllPub</td>\n",
       "      <td>Corner</td>\n",
       "      <td>...</td>\n",
       "      <td>None</td>\n",
       "      <td>None</td>\n",
       "      <td>0</td>\n",
       "      <td>6</td>\n",
       "      <td>2007</td>\n",
       "      <td>New</td>\n",
       "      <td>260116</td>\n",
       "      <td>4102.0</td>\n",
       "      <td>0</td>\n",
       "      <td>-1</td>\n",
       "    </tr>\n",
       "  </tbody>\n",
       "</table>\n",
       "<p>1 rows × 82 columns</p>\n",
       "</div>"
      ],
      "text/plain": [
       "      ms_subclass ms_zoning  lot_frontage  lot_area  street alley lot_shape  \\\n",
       "id                                                                            \n",
       "1703           60        RL         134.0     16659       1  None       IR1   \n",
       "\n",
       "     land_contour utilities lot_config  ... fence misc_feature misc_val  \\\n",
       "id                                      ...                               \n",
       "1703          Lvl    AllPub     Corner  ...  None         None        0   \n",
       "\n",
       "     mo_sold yr_sold sale_type  saleprice  total_sf  housing_age  \\\n",
       "id                                                                 \n",
       "1703       6    2007       New     260116    4102.0            0   \n",
       "\n",
       "      age_after_remod  \n",
       "id                     \n",
       "1703               -1  \n",
       "\n",
       "[1 rows x 82 columns]"
      ]
     },
     "execution_count": 7,
     "metadata": {},
     "output_type": "execute_result"
    }
   ],
   "source": [
    "# It seem little weird that the year of remodeling is after yr sold \n",
    "# Might be due to same error, \n",
    "# Hence decided to drop \n",
    "train_cleaned[train_cleaned['age_after_remod'] == -1]"
   ]
  },
  {
   "cell_type": "code",
   "execution_count": 8,
   "metadata": {},
   "outputs": [],
   "source": [
    "train_cleaned.drop([1703], inplace=True)"
   ]
  },
  {
   "cell_type": "code",
   "execution_count": 9,
   "metadata": {
    "scrolled": true
   },
   "outputs": [
    {
     "data": {
      "text/plain": [
       "count    2043.000000\n",
       "mean        2.108174\n",
       "std         0.983979\n",
       "min         1.000000\n",
       "25%         1.000000\n",
       "50%         2.000000\n",
       "75%         3.000000\n",
       "max         4.000000\n",
       "Name: seasons, dtype: float64"
      ]
     },
     "execution_count": 9,
     "metadata": {},
     "output_type": "execute_result"
    }
   ],
   "source": [
    "# Regroup variables from housing per month sold into seasons\n",
    "# supply and demand during different seasons\n",
    "# https://www.investopedia.com/articles/investing/010717/seasons-impact-real-estate-more-you-think.asp\n",
    "# 1 - spring(3,4,5); 2 - summer(6,7,8); 3(9,10,11) - fall; 4 - winter(12,1,2)\n",
    "\n",
    "train_cleaned['seasons'] = train_cleaned['mo_sold'].map(lambda x : 4 if x <= 2 else 1\n",
    "                                        if x < 6 else 2 \n",
    "                                        if x < 9 else 3 \n",
    "                                        if x < 12 else 4)\n",
    "train_cleaned['seasons'].describe()"
   ]
  },
  {
   "cell_type": "code",
   "execution_count": 10,
   "metadata": {
    "scrolled": true
   },
   "outputs": [
    {
     "data": {
      "text/html": [
       "<div>\n",
       "<style scoped>\n",
       "    .dataframe tbody tr th:only-of-type {\n",
       "        vertical-align: middle;\n",
       "    }\n",
       "\n",
       "    .dataframe tbody tr th {\n",
       "        vertical-align: top;\n",
       "    }\n",
       "\n",
       "    .dataframe thead th {\n",
       "        text-align: right;\n",
       "    }\n",
       "</style>\n",
       "<table border=\"1\" class=\"dataframe\">\n",
       "  <thead>\n",
       "    <tr style=\"text-align: right;\">\n",
       "      <th></th>\n",
       "      <th>lot_frontage</th>\n",
       "      <th>lot_area</th>\n",
       "      <th>overall_qual</th>\n",
       "      <th>overall_cond</th>\n",
       "      <th>mas_vnr_area</th>\n",
       "      <th>exter_qual</th>\n",
       "      <th>exter_cond</th>\n",
       "      <th>bsmt_qual</th>\n",
       "      <th>bsmt_cond</th>\n",
       "      <th>bsmt_exposure</th>\n",
       "      <th>...</th>\n",
       "      <th>garage_yr_blt_2003.0</th>\n",
       "      <th>garage_yr_blt_2004.0</th>\n",
       "      <th>garage_yr_blt_2005.0</th>\n",
       "      <th>garage_yr_blt_2006.0</th>\n",
       "      <th>garage_yr_blt_2007.0</th>\n",
       "      <th>garage_yr_blt_2008.0</th>\n",
       "      <th>garage_yr_blt_2009.0</th>\n",
       "      <th>garage_yr_blt_2010.0</th>\n",
       "      <th>garage_yr_blt_2207.0</th>\n",
       "      <th>garage_yr_blt_None</th>\n",
       "    </tr>\n",
       "    <tr>\n",
       "      <th>id</th>\n",
       "      <th></th>\n",
       "      <th></th>\n",
       "      <th></th>\n",
       "      <th></th>\n",
       "      <th></th>\n",
       "      <th></th>\n",
       "      <th></th>\n",
       "      <th></th>\n",
       "      <th></th>\n",
       "      <th></th>\n",
       "      <th></th>\n",
       "      <th></th>\n",
       "      <th></th>\n",
       "      <th></th>\n",
       "      <th></th>\n",
       "      <th></th>\n",
       "      <th></th>\n",
       "      <th></th>\n",
       "      <th></th>\n",
       "      <th></th>\n",
       "      <th></th>\n",
       "    </tr>\n",
       "  </thead>\n",
       "  <tbody>\n",
       "    <tr>\n",
       "      <th>1</th>\n",
       "      <td>141.0</td>\n",
       "      <td>31770</td>\n",
       "      <td>6</td>\n",
       "      <td>5</td>\n",
       "      <td>112.0</td>\n",
       "      <td>3</td>\n",
       "      <td>3</td>\n",
       "      <td>3.0</td>\n",
       "      <td>4.0</td>\n",
       "      <td>3.0</td>\n",
       "      <td>...</td>\n",
       "      <td>0</td>\n",
       "      <td>0</td>\n",
       "      <td>0</td>\n",
       "      <td>0</td>\n",
       "      <td>0</td>\n",
       "      <td>0</td>\n",
       "      <td>0</td>\n",
       "      <td>0</td>\n",
       "      <td>0</td>\n",
       "      <td>0</td>\n",
       "    </tr>\n",
       "    <tr>\n",
       "      <th>3</th>\n",
       "      <td>81.0</td>\n",
       "      <td>14267</td>\n",
       "      <td>6</td>\n",
       "      <td>6</td>\n",
       "      <td>108.0</td>\n",
       "      <td>3</td>\n",
       "      <td>3</td>\n",
       "      <td>3.0</td>\n",
       "      <td>3.0</td>\n",
       "      <td>0.0</td>\n",
       "      <td>...</td>\n",
       "      <td>0</td>\n",
       "      <td>0</td>\n",
       "      <td>0</td>\n",
       "      <td>0</td>\n",
       "      <td>0</td>\n",
       "      <td>0</td>\n",
       "      <td>0</td>\n",
       "      <td>0</td>\n",
       "      <td>0</td>\n",
       "      <td>0</td>\n",
       "    </tr>\n",
       "    <tr>\n",
       "      <th>5</th>\n",
       "      <td>74.0</td>\n",
       "      <td>13830</td>\n",
       "      <td>5</td>\n",
       "      <td>5</td>\n",
       "      <td>0.0</td>\n",
       "      <td>3</td>\n",
       "      <td>3</td>\n",
       "      <td>4.0</td>\n",
       "      <td>3.0</td>\n",
       "      <td>0.0</td>\n",
       "      <td>...</td>\n",
       "      <td>0</td>\n",
       "      <td>0</td>\n",
       "      <td>0</td>\n",
       "      <td>0</td>\n",
       "      <td>0</td>\n",
       "      <td>0</td>\n",
       "      <td>0</td>\n",
       "      <td>0</td>\n",
       "      <td>0</td>\n",
       "      <td>0</td>\n",
       "    </tr>\n",
       "    <tr>\n",
       "      <th>8</th>\n",
       "      <td>43.0</td>\n",
       "      <td>5005</td>\n",
       "      <td>8</td>\n",
       "      <td>5</td>\n",
       "      <td>0.0</td>\n",
       "      <td>4</td>\n",
       "      <td>3</td>\n",
       "      <td>4.0</td>\n",
       "      <td>3.0</td>\n",
       "      <td>0.0</td>\n",
       "      <td>...</td>\n",
       "      <td>0</td>\n",
       "      <td>0</td>\n",
       "      <td>0</td>\n",
       "      <td>0</td>\n",
       "      <td>0</td>\n",
       "      <td>0</td>\n",
       "      <td>0</td>\n",
       "      <td>0</td>\n",
       "      <td>0</td>\n",
       "      <td>0</td>\n",
       "    </tr>\n",
       "    <tr>\n",
       "      <th>9</th>\n",
       "      <td>39.0</td>\n",
       "      <td>5389</td>\n",
       "      <td>8</td>\n",
       "      <td>5</td>\n",
       "      <td>0.0</td>\n",
       "      <td>4</td>\n",
       "      <td>3</td>\n",
       "      <td>4.0</td>\n",
       "      <td>3.0</td>\n",
       "      <td>0.0</td>\n",
       "      <td>...</td>\n",
       "      <td>0</td>\n",
       "      <td>0</td>\n",
       "      <td>0</td>\n",
       "      <td>0</td>\n",
       "      <td>0</td>\n",
       "      <td>0</td>\n",
       "      <td>0</td>\n",
       "      <td>0</td>\n",
       "      <td>0</td>\n",
       "      <td>0</td>\n",
       "    </tr>\n",
       "  </tbody>\n",
       "</table>\n",
       "<p>5 rows × 510 columns</p>\n",
       "</div>"
      ],
      "text/plain": [
       "    lot_frontage  lot_area  overall_qual  overall_cond  mas_vnr_area  \\\n",
       "id                                                                     \n",
       "1          141.0     31770             6             5         112.0   \n",
       "3           81.0     14267             6             6         108.0   \n",
       "5           74.0     13830             5             5           0.0   \n",
       "8           43.0      5005             8             5           0.0   \n",
       "9           39.0      5389             8             5           0.0   \n",
       "\n",
       "    exter_qual  exter_cond bsmt_qual bsmt_cond bsmt_exposure  ...  \\\n",
       "id                                                            ...   \n",
       "1            3           3       3.0       4.0           3.0  ...   \n",
       "3            3           3       3.0       3.0           0.0  ...   \n",
       "5            3           3       4.0       3.0           0.0  ...   \n",
       "8            4           3       4.0       3.0           0.0  ...   \n",
       "9            4           3       4.0       3.0           0.0  ...   \n",
       "\n",
       "    garage_yr_blt_2003.0  garage_yr_blt_2004.0  garage_yr_blt_2005.0  \\\n",
       "id                                                                     \n",
       "1                      0                     0                     0   \n",
       "3                      0                     0                     0   \n",
       "5                      0                     0                     0   \n",
       "8                      0                     0                     0   \n",
       "9                      0                     0                     0   \n",
       "\n",
       "    garage_yr_blt_2006.0  garage_yr_blt_2007.0  garage_yr_blt_2008.0  \\\n",
       "id                                                                     \n",
       "1                      0                     0                     0   \n",
       "3                      0                     0                     0   \n",
       "5                      0                     0                     0   \n",
       "8                      0                     0                     0   \n",
       "9                      0                     0                     0   \n",
       "\n",
       "    garage_yr_blt_2009.0  garage_yr_blt_2010.0  garage_yr_blt_2207.0  \\\n",
       "id                                                                     \n",
       "1                      0                     0                     0   \n",
       "3                      0                     0                     0   \n",
       "5                      0                     0                     0   \n",
       "8                      0                     0                     0   \n",
       "9                      0                     0                     0   \n",
       "\n",
       "    garage_yr_blt_None  \n",
       "id                      \n",
       "1                    0  \n",
       "3                    0  \n",
       "5                    0  \n",
       "8                    0  \n",
       "9                    0  \n",
       "\n",
       "[5 rows x 510 columns]"
      ]
     },
     "execution_count": 10,
     "metadata": {},
     "output_type": "execute_result"
    }
   ],
   "source": [
    "#Create dummies for categorical variables\n",
    "\n",
    "train_cleaned = pd.get_dummies(train_cleaned, columns=['ms_subclass','ms_zoning','street','alley', \n",
    "                                               'lot_shape', 'land_contour', 'utilities','lot_config',\n",
    "                                               'land_slope','condition_1','condition_2','bldg_type',\n",
    "                                               'house_style','roof_style','roof_matl','exterior_1st',\n",
    "                                               'exterior_2nd','mas_vnr_type','foundation','bsmtfin_type_1',\n",
    "                                               'bsmtfin_type_2','heating','central_air','electrical',\n",
    "                                               'functional','garage_type','garage_finish','paved_drive',\n",
    "                                               'fence', 'misc_feature','sale_type', 'neighborhood',\n",
    "                                               'year_built', 'year_remod/add', 'garage_yr_blt'], \n",
    "                               drop_first=True)\n",
    "train_cleaned.head()"
   ]
  },
  {
   "cell_type": "code",
   "execution_count": 12,
   "metadata": {},
   "outputs": [
    {
     "data": {
      "image/png": "[encoded data removed]",
      "text/plain": [
       "<Figure size 1080x360 with 2 Axes>"
      ]
     },
     "metadata": {
      "needs_background": "light"
     },
     "output_type": "display_data"
    }
   ],
   "source": [
    "# Variables has highest positive correlation against Sale Price with added Variables and dummies\n",
    "plt.figure(figsize = (15,5))\n",
    "train_cleaned_corr = train_cleaned.corr()[['saleprice']].sort_values('saleprice', ascending=False)\n",
    "positive_corr = train_cleaned_corr.head(15)\n",
    "\n",
    "sns.heatmap(positive_corr, annot = True, cmap='Reds');"
   ]
  },
  {
   "cell_type": "code",
   "execution_count": 13,
   "metadata": {
    "scrolled": false
   },
   "outputs": [
    {
     "data": {
      "image/png": "[encoded data removed]",
      "text/plain": [
       "<Figure size 1080x360 with 2 Axes>"
      ]
     },
     "metadata": {
      "needs_background": "light"
     },
     "output_type": "display_data"
    }
   ],
   "source": [
    "# Variables has highest negative correlation against Sale Price with added Variables and dummies\n",
    "plt.figure(figsize = (15,5))\n",
    "train_cleaned_corr = train_cleaned.corr()[['saleprice']].sort_values('saleprice', ascending=False)\n",
    "positive_corr = train_cleaned_corr.tail(15)\n",
    "\n",
    "sns.heatmap(positive_corr, annot = True, cmap='Reds');"
   ]
  },
  {
   "cell_type": "markdown",
   "metadata": {},
   "source": [
    "It seems like with the added new features (interaction between variables) has a high correlation to saleprice better then when is it measured separately. "
   ]
  },
  {
   "cell_type": "code",
   "execution_count": 14,
   "metadata": {},
   "outputs": [],
   "source": [
    "#Saving engineered Data\n",
    "df_train = train_cleaned\n",
    "df_train.to_csv('../datasets/df_train.csv')"
   ]
  },
  {
   "cell_type": "markdown",
   "metadata": {},
   "source": [
    "----> Proceed to the next notebook for [Modeling and Kaggle Submission](./03_Modeling_and_Kaggle_Submission.ipynb)"
   ]
  }
 ],
 "metadata": {
  "kernelspec": {
   "display_name": "Python 3",
   "language": "python",
   "name": "python3"
  },
  "language_info": {
   "codemirror_mode": {
    "name": "ipython",
    "version": 3
   },
   "file_extension": ".py",
   "mimetype": "text/x-python",
   "name": "python",
   "nbconvert_exporter": "python",
   "pygments_lexer": "ipython3",
   "version": "3.7.4"
  }
 },
 "nbformat": 4,
 "nbformat_minor": 2
}
