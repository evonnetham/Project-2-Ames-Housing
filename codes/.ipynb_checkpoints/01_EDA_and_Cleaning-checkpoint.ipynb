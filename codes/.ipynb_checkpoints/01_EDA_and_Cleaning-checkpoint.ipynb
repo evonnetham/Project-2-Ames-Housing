{
 "cells": [
  {
   "cell_type": "markdown",
   "metadata": {},
   "source": [
    "<img src=\"http://imgur.com/1ZcRyrc.png\" style=\"float: left; margin: 20px; height: 55px\">\n",
    "\n",
    "# Project 2: Ames Property Watch\n",
    "\n",
    "_Author: Evonne Tham_\n",
    "\n",
    "---\n"
   ]
  },
  {
   "cell_type": "markdown",
   "metadata": {},
   "source": [
    "# Data Cleaning"
   ]
  },
  {
   "cell_type": "markdown",
   "metadata": {},
   "source": [
    "### 1. Import Libraries"
   ]
  },
  {
   "cell_type": "code",
   "execution_count": 1,
   "metadata": {},
   "outputs": [
    {
     "name": "stderr",
     "output_type": "stream",
     "text": [
      "/opt/anaconda3/lib/python3.7/site-packages/statsmodels/tools/_testing.py:19: FutureWarning: pandas.util.testing is deprecated. Use the functions in the public API at pandas.testing instead.\n",
      "  import pandas.util.testing as tm\n"
     ]
    }
   ],
   "source": [
    "#Import all Libraries \n",
    "\n",
    "import pandas as pd \n",
    "import numpy as np\n",
    "import matplotlib.pyplot as plt \n",
    "import seaborn as sns \n",
    "\n",
    "sns.set_style('darkgrid')\n",
    "\n",
    "import warnings\n",
    "warnings.filterwarnings('ignore')"
   ]
  },
  {
   "cell_type": "markdown",
   "metadata": {},
   "source": [
    "### 2. Read in and display Train Dataset"
   ]
  },
  {
   "cell_type": "code",
   "execution_count": 2,
   "metadata": {},
   "outputs": [
    {
     "data": {
      "text/plain": [
       "(2051, 81)"
      ]
     },
     "execution_count": 2,
     "metadata": {},
     "output_type": "execute_result"
    }
   ],
   "source": [
    "train = pd.read_csv(\"../datasets/train.csv\") \n",
    "train.shape"
   ]
  },
  {
   "cell_type": "code",
   "execution_count": 3,
   "metadata": {},
   "outputs": [
    {
     "data": {
      "text/plain": [
       "Index(['Id', 'PID', 'MS SubClass', 'MS Zoning', 'Lot Frontage', 'Lot Area',\n",
       "       'Street', 'Alley', 'Lot Shape', 'Land Contour', 'Utilities',\n",
       "       'Lot Config', 'Land Slope', 'Neighborhood', 'Condition 1',\n",
       "       'Condition 2', 'Bldg Type', 'House Style', 'Overall Qual',\n",
       "       'Overall Cond', 'Year Built', 'Year Remod/Add', 'Roof Style',\n",
       "       'Roof Matl', 'Exterior 1st', 'Exterior 2nd', 'Mas Vnr Type',\n",
       "       'Mas Vnr Area', 'Exter Qual', 'Exter Cond', 'Foundation', 'Bsmt Qual',\n",
       "       'Bsmt Cond', 'Bsmt Exposure', 'BsmtFin Type 1', 'BsmtFin SF 1',\n",
       "       'BsmtFin Type 2', 'BsmtFin SF 2', 'Bsmt Unf SF', 'Total Bsmt SF',\n",
       "       'Heating', 'Heating QC', 'Central Air', 'Electrical', '1st Flr SF',\n",
       "       '2nd Flr SF', 'Low Qual Fin SF', 'Gr Liv Area', 'Bsmt Full Bath',\n",
       "       'Bsmt Half Bath', 'Full Bath', 'Half Bath', 'Bedroom AbvGr',\n",
       "       'Kitchen AbvGr', 'Kitchen Qual', 'TotRms AbvGrd', 'Functional',\n",
       "       'Fireplaces', 'Fireplace Qu', 'Garage Type', 'Garage Yr Blt',\n",
       "       'Garage Finish', 'Garage Cars', 'Garage Area', 'Garage Qual',\n",
       "       'Garage Cond', 'Paved Drive', 'Wood Deck SF', 'Open Porch SF',\n",
       "       'Enclosed Porch', '3Ssn Porch', 'Screen Porch', 'Pool Area', 'Pool QC',\n",
       "       'Fence', 'Misc Feature', 'Misc Val', 'Mo Sold', 'Yr Sold', 'Sale Type',\n",
       "       'SalePrice'],\n",
       "      dtype='object')"
      ]
     },
     "execution_count": 3,
     "metadata": {},
     "output_type": "execute_result"
    }
   ],
   "source": [
    "train.columns"
   ]
  },
  {
   "cell_type": "code",
   "execution_count": 4,
   "metadata": {
    "scrolled": true
   },
   "outputs": [
    {
     "data": {
      "text/html": [
       "<div>\n",
       "<style scoped>\n",
       "    .dataframe tbody tr th:only-of-type {\n",
       "        vertical-align: middle;\n",
       "    }\n",
       "\n",
       "    .dataframe tbody tr th {\n",
       "        vertical-align: top;\n",
       "    }\n",
       "\n",
       "    .dataframe thead th {\n",
       "        text-align: right;\n",
       "    }\n",
       "</style>\n",
       "<table border=\"1\" class=\"dataframe\">\n",
       "  <thead>\n",
       "    <tr style=\"text-align: right;\">\n",
       "      <th></th>\n",
       "      <th>Id</th>\n",
       "      <th>PID</th>\n",
       "      <th>MS SubClass</th>\n",
       "      <th>MS Zoning</th>\n",
       "      <th>Lot Frontage</th>\n",
       "      <th>Lot Area</th>\n",
       "      <th>Street</th>\n",
       "      <th>Alley</th>\n",
       "      <th>Lot Shape</th>\n",
       "      <th>Land Contour</th>\n",
       "      <th>...</th>\n",
       "      <th>Screen Porch</th>\n",
       "      <th>Pool Area</th>\n",
       "      <th>Pool QC</th>\n",
       "      <th>Fence</th>\n",
       "      <th>Misc Feature</th>\n",
       "      <th>Misc Val</th>\n",
       "      <th>Mo Sold</th>\n",
       "      <th>Yr Sold</th>\n",
       "      <th>Sale Type</th>\n",
       "      <th>SalePrice</th>\n",
       "    </tr>\n",
       "  </thead>\n",
       "  <tbody>\n",
       "    <tr>\n",
       "      <th>0</th>\n",
       "      <td>109</td>\n",
       "      <td>533352170</td>\n",
       "      <td>60</td>\n",
       "      <td>RL</td>\n",
       "      <td>NaN</td>\n",
       "      <td>13517</td>\n",
       "      <td>Pave</td>\n",
       "      <td>NaN</td>\n",
       "      <td>IR1</td>\n",
       "      <td>Lvl</td>\n",
       "      <td>...</td>\n",
       "      <td>0</td>\n",
       "      <td>0</td>\n",
       "      <td>NaN</td>\n",
       "      <td>NaN</td>\n",
       "      <td>NaN</td>\n",
       "      <td>0</td>\n",
       "      <td>3</td>\n",
       "      <td>2010</td>\n",
       "      <td>WD</td>\n",
       "      <td>130500</td>\n",
       "    </tr>\n",
       "    <tr>\n",
       "      <th>1</th>\n",
       "      <td>544</td>\n",
       "      <td>531379050</td>\n",
       "      <td>60</td>\n",
       "      <td>RL</td>\n",
       "      <td>43.0</td>\n",
       "      <td>11492</td>\n",
       "      <td>Pave</td>\n",
       "      <td>NaN</td>\n",
       "      <td>IR1</td>\n",
       "      <td>Lvl</td>\n",
       "      <td>...</td>\n",
       "      <td>0</td>\n",
       "      <td>0</td>\n",
       "      <td>NaN</td>\n",
       "      <td>NaN</td>\n",
       "      <td>NaN</td>\n",
       "      <td>0</td>\n",
       "      <td>4</td>\n",
       "      <td>2009</td>\n",
       "      <td>WD</td>\n",
       "      <td>220000</td>\n",
       "    </tr>\n",
       "    <tr>\n",
       "      <th>2</th>\n",
       "      <td>153</td>\n",
       "      <td>535304180</td>\n",
       "      <td>20</td>\n",
       "      <td>RL</td>\n",
       "      <td>68.0</td>\n",
       "      <td>7922</td>\n",
       "      <td>Pave</td>\n",
       "      <td>NaN</td>\n",
       "      <td>Reg</td>\n",
       "      <td>Lvl</td>\n",
       "      <td>...</td>\n",
       "      <td>0</td>\n",
       "      <td>0</td>\n",
       "      <td>NaN</td>\n",
       "      <td>NaN</td>\n",
       "      <td>NaN</td>\n",
       "      <td>0</td>\n",
       "      <td>1</td>\n",
       "      <td>2010</td>\n",
       "      <td>WD</td>\n",
       "      <td>109000</td>\n",
       "    </tr>\n",
       "    <tr>\n",
       "      <th>3</th>\n",
       "      <td>318</td>\n",
       "      <td>916386060</td>\n",
       "      <td>60</td>\n",
       "      <td>RL</td>\n",
       "      <td>73.0</td>\n",
       "      <td>9802</td>\n",
       "      <td>Pave</td>\n",
       "      <td>NaN</td>\n",
       "      <td>Reg</td>\n",
       "      <td>Lvl</td>\n",
       "      <td>...</td>\n",
       "      <td>0</td>\n",
       "      <td>0</td>\n",
       "      <td>NaN</td>\n",
       "      <td>NaN</td>\n",
       "      <td>NaN</td>\n",
       "      <td>0</td>\n",
       "      <td>4</td>\n",
       "      <td>2010</td>\n",
       "      <td>WD</td>\n",
       "      <td>174000</td>\n",
       "    </tr>\n",
       "    <tr>\n",
       "      <th>4</th>\n",
       "      <td>255</td>\n",
       "      <td>906425045</td>\n",
       "      <td>50</td>\n",
       "      <td>RL</td>\n",
       "      <td>82.0</td>\n",
       "      <td>14235</td>\n",
       "      <td>Pave</td>\n",
       "      <td>NaN</td>\n",
       "      <td>IR1</td>\n",
       "      <td>Lvl</td>\n",
       "      <td>...</td>\n",
       "      <td>0</td>\n",
       "      <td>0</td>\n",
       "      <td>NaN</td>\n",
       "      <td>NaN</td>\n",
       "      <td>NaN</td>\n",
       "      <td>0</td>\n",
       "      <td>3</td>\n",
       "      <td>2010</td>\n",
       "      <td>WD</td>\n",
       "      <td>138500</td>\n",
       "    </tr>\n",
       "  </tbody>\n",
       "</table>\n",
       "<p>5 rows × 81 columns</p>\n",
       "</div>"
      ],
      "text/plain": [
       "    Id        PID  MS SubClass MS Zoning  Lot Frontage  Lot Area Street Alley  \\\n",
       "0  109  533352170           60        RL           NaN     13517   Pave   NaN   \n",
       "1  544  531379050           60        RL          43.0     11492   Pave   NaN   \n",
       "2  153  535304180           20        RL          68.0      7922   Pave   NaN   \n",
       "3  318  916386060           60        RL          73.0      9802   Pave   NaN   \n",
       "4  255  906425045           50        RL          82.0     14235   Pave   NaN   \n",
       "\n",
       "  Lot Shape Land Contour  ... Screen Porch Pool Area Pool QC Fence  \\\n",
       "0       IR1          Lvl  ...            0         0     NaN   NaN   \n",
       "1       IR1          Lvl  ...            0         0     NaN   NaN   \n",
       "2       Reg          Lvl  ...            0         0     NaN   NaN   \n",
       "3       Reg          Lvl  ...            0         0     NaN   NaN   \n",
       "4       IR1          Lvl  ...            0         0     NaN   NaN   \n",
       "\n",
       "  Misc Feature Misc Val Mo Sold Yr Sold  Sale Type  SalePrice  \n",
       "0          NaN        0       3    2010        WD      130500  \n",
       "1          NaN        0       4    2009        WD      220000  \n",
       "2          NaN        0       1    2010        WD      109000  \n",
       "3          NaN        0       4    2010        WD      174000  \n",
       "4          NaN        0       3    2010        WD      138500  \n",
       "\n",
       "[5 rows x 81 columns]"
      ]
     },
     "execution_count": 4,
     "metadata": {},
     "output_type": "execute_result"
    }
   ],
   "source": [
    "train.head()"
   ]
  },
  {
   "cell_type": "code",
   "execution_count": 5,
   "metadata": {
    "scrolled": false
   },
   "outputs": [
    {
     "data": {
      "text/plain": [
       "object     42\n",
       "int64      28\n",
       "float64    11\n",
       "dtype: int64"
      ]
     },
     "execution_count": 5,
     "metadata": {},
     "output_type": "execute_result"
    }
   ],
   "source": [
    "train.dtypes.value_counts()"
   ]
  },
  {
   "cell_type": "markdown",
   "metadata": {},
   "source": [
    "This dataset contains information from the Ames Assessor’s Office used in computing assessed values for individual residential properties sold in Ames, IA from 2006 to 2010.\n",
    "This Data consist of 2051 rows of observations that is broken down into information of a housing with sale price included. "
   ]
  },
  {
   "cell_type": "markdown",
   "metadata": {},
   "source": [
    "### 3. Rename Train Columns"
   ]
  },
  {
   "cell_type": "code",
   "execution_count": 6,
   "metadata": {},
   "outputs": [
    {
     "data": {
      "text/plain": [
       "Index(['id', 'pid', 'ms_subclass', 'ms_zoning', 'lot_frontage', 'lot_area',\n",
       "       'street', 'alley', 'lot_shape', 'land_contour', 'utilities',\n",
       "       'lot_config', 'land_slope', 'neighborhood', 'condition_1',\n",
       "       'condition_2', 'bldg_type', 'house_style', 'overall_qual',\n",
       "       'overall_cond', 'year_built', 'year_remod/add', 'roof_style',\n",
       "       'roof_matl', 'exterior_1st', 'exterior_2nd', 'mas_vnr_type',\n",
       "       'mas_vnr_area', 'exter_qual', 'exter_cond', 'foundation', 'bsmt_qual',\n",
       "       'bsmt_cond', 'bsmt_exposure', 'bsmtfin_type_1', 'bsmtfin_sf_1',\n",
       "       'bsmtfin_type_2', 'bsmtfin_sf_2', 'bsmt_unf_sf', 'total_bsmt_sf',\n",
       "       'heating', 'heating_qc', 'central_air', 'electrical', '1st_flr_sf',\n",
       "       '2nd_flr_sf', 'low_qual_fin_sf', 'gr_liv_area', 'bsmt_full_bath',\n",
       "       'bsmt_half_bath', 'full_bath', 'half_bath', 'bedroom_abvgr',\n",
       "       'kitchen_abvgr', 'kitchen_qual', 'totrms_abvgrd', 'functional',\n",
       "       'fireplaces', 'fireplace_qu', 'garage_type', 'garage_yr_blt',\n",
       "       'garage_finish', 'garage_cars', 'garage_area', 'garage_qual',\n",
       "       'garage_cond', 'paved_drive', 'wood_deck_sf', 'open_porch_sf',\n",
       "       'enclosed_porch', '3ssn_porch', 'screen_porch', 'pool_area', 'pool_qc',\n",
       "       'fence', 'misc_feature', 'misc_val', 'mo_sold', 'yr_sold', 'sale_type',\n",
       "       'saleprice'],\n",
       "      dtype='object')"
      ]
     },
     "execution_count": 6,
     "metadata": {},
     "output_type": "execute_result"
    }
   ],
   "source": [
    "# Cleaning up columns names to snake_case\n",
    "train.columns = [x.replace(' ', '_').lower() for x in train.columns]\n",
    "train.columns"
   ]
  },
  {
   "cell_type": "code",
   "execution_count": 7,
   "metadata": {},
   "outputs": [
    {
     "data": {
      "text/plain": [
       "(2051, 80)"
      ]
     },
     "execution_count": 7,
     "metadata": {},
     "output_type": "execute_result"
    }
   ],
   "source": [
    "# Set Id as indexes \n",
    "train.set_index('id', inplace= True)\n",
    "train.sort_index(inplace=True)\n",
    "train.shape"
   ]
  },
  {
   "cell_type": "code",
   "execution_count": 8,
   "metadata": {},
   "outputs": [],
   "source": [
    "# Drop PID as it is just another index \n",
    "# will not be affecting the sale price\n",
    "train = train.drop(['pid'], axis=1)"
   ]
  },
  {
   "cell_type": "code",
   "execution_count": 9,
   "metadata": {},
   "outputs": [
    {
     "data": {
      "text/plain": [
       "(2051, 79)"
      ]
     },
     "execution_count": 9,
     "metadata": {},
     "output_type": "execute_result"
    }
   ],
   "source": [
    "train.shape"
   ]
  },
  {
   "cell_type": "markdown",
   "metadata": {},
   "source": [
    "Even though pool_qu, misc_features, alley and fence has a high number of null values, I decided not to drop any other than 'pid' as I assume majority of the houses does not have those features. Hence, having any one of them might have a effect on sale price."
   ]
  },
  {
   "cell_type": "markdown",
   "metadata": {},
   "source": [
    "### 4. Imputate Missing Values"
   ]
  },
  {
   "cell_type": "code",
   "execution_count": 10,
   "metadata": {
    "scrolled": false
   },
   "outputs": [
    {
     "data": {
      "text/plain": [
       "pool_qc           2042\n",
       "misc_feature      1986\n",
       "alley             1911\n",
       "fence             1651\n",
       "fireplace_qu      1000\n",
       "lot_frontage       330\n",
       "garage_yr_blt      114\n",
       "garage_cond        114\n",
       "garage_qual        114\n",
       "garage_finish      114\n",
       "garage_type        113\n",
       "bsmt_exposure       58\n",
       "bsmtfin_type_2      56\n",
       "bsmt_cond           55\n",
       "bsmt_qual           55\n",
       "bsmtfin_type_1      55\n",
       "mas_vnr_type        22\n",
       "mas_vnr_area        22\n",
       "bsmt_half_bath       2\n",
       "bsmt_full_bath       2\n",
       "garage_cars          1\n",
       "bsmtfin_sf_1         1\n",
       "bsmtfin_sf_2         1\n",
       "bsmt_unf_sf          1\n",
       "garage_area          1\n",
       "total_bsmt_sf        1\n",
       "dtype: int64"
      ]
     },
     "execution_count": 10,
     "metadata": {},
     "output_type": "execute_result"
    }
   ],
   "source": [
    "# Check for nulls\n",
    "(train.isnull().sum())[train.isnull().sum() > 0].sort_values(ascending=False)"
   ]
  },
  {
   "cell_type": "code",
   "execution_count": 11,
   "metadata": {
    "scrolled": true
   },
   "outputs": [
    {
     "data": {
      "text/plain": [
       "0"
      ]
     },
     "execution_count": 11,
     "metadata": {},
     "output_type": "execute_result"
    }
   ],
   "source": [
    "# Checking for any Duplicates\n",
    "train.duplicated().sum()"
   ]
  },
  {
   "cell_type": "code",
   "execution_count": 12,
   "metadata": {},
   "outputs": [
    {
     "data": {
      "text/plain": [
       "bsmtfin_sf_1     1\n",
       "bsmtfin_sf_2     1\n",
       "bsmt_unf_sf      1\n",
       "total_bsmt_sf    1\n",
       "garage_cars      1\n",
       "garage_area      1\n",
       "dtype: int64"
      ]
     },
     "execution_count": 12,
     "metadata": {},
     "output_type": "execute_result"
    }
   ],
   "source": [
    "# Checking rows that may consist more than one NaNs\n",
    "train.isnull().sum()[train.isnull().sum() == 1]"
   ]
  },
  {
   "cell_type": "code",
   "execution_count": 13,
   "metadata": {
    "scrolled": true
   },
   "outputs": [
    {
     "data": {
      "text/html": [
       "<div>\n",
       "<style scoped>\n",
       "    .dataframe tbody tr th:only-of-type {\n",
       "        vertical-align: middle;\n",
       "    }\n",
       "\n",
       "    .dataframe tbody tr th {\n",
       "        vertical-align: top;\n",
       "    }\n",
       "\n",
       "    .dataframe thead th {\n",
       "        text-align: right;\n",
       "    }\n",
       "</style>\n",
       "<table border=\"1\" class=\"dataframe\">\n",
       "  <thead>\n",
       "    <tr style=\"text-align: right;\">\n",
       "      <th></th>\n",
       "      <th>ms_subclass</th>\n",
       "      <th>ms_zoning</th>\n",
       "      <th>lot_frontage</th>\n",
       "      <th>lot_area</th>\n",
       "      <th>street</th>\n",
       "      <th>alley</th>\n",
       "      <th>lot_shape</th>\n",
       "      <th>land_contour</th>\n",
       "      <th>utilities</th>\n",
       "      <th>lot_config</th>\n",
       "      <th>...</th>\n",
       "      <th>screen_porch</th>\n",
       "      <th>pool_area</th>\n",
       "      <th>pool_qc</th>\n",
       "      <th>fence</th>\n",
       "      <th>misc_feature</th>\n",
       "      <th>misc_val</th>\n",
       "      <th>mo_sold</th>\n",
       "      <th>yr_sold</th>\n",
       "      <th>sale_type</th>\n",
       "      <th>saleprice</th>\n",
       "    </tr>\n",
       "    <tr>\n",
       "      <th>id</th>\n",
       "      <th></th>\n",
       "      <th></th>\n",
       "      <th></th>\n",
       "      <th></th>\n",
       "      <th></th>\n",
       "      <th></th>\n",
       "      <th></th>\n",
       "      <th></th>\n",
       "      <th></th>\n",
       "      <th></th>\n",
       "      <th></th>\n",
       "      <th></th>\n",
       "      <th></th>\n",
       "      <th></th>\n",
       "      <th></th>\n",
       "      <th></th>\n",
       "      <th></th>\n",
       "      <th></th>\n",
       "      <th></th>\n",
       "      <th></th>\n",
       "      <th></th>\n",
       "    </tr>\n",
       "  </thead>\n",
       "  <tbody>\n",
       "    <tr>\n",
       "      <th>1342</th>\n",
       "      <td>20</td>\n",
       "      <td>RM</td>\n",
       "      <td>99.0</td>\n",
       "      <td>5940</td>\n",
       "      <td>Pave</td>\n",
       "      <td>NaN</td>\n",
       "      <td>IR1</td>\n",
       "      <td>Lvl</td>\n",
       "      <td>AllPub</td>\n",
       "      <td>FR3</td>\n",
       "      <td>...</td>\n",
       "      <td>0</td>\n",
       "      <td>0</td>\n",
       "      <td>NaN</td>\n",
       "      <td>MnPrv</td>\n",
       "      <td>NaN</td>\n",
       "      <td>0</td>\n",
       "      <td>4</td>\n",
       "      <td>2008</td>\n",
       "      <td>ConLD</td>\n",
       "      <td>79000</td>\n",
       "    </tr>\n",
       "    <tr>\n",
       "      <th>1498</th>\n",
       "      <td>20</td>\n",
       "      <td>RL</td>\n",
       "      <td>123.0</td>\n",
       "      <td>47007</td>\n",
       "      <td>Pave</td>\n",
       "      <td>NaN</td>\n",
       "      <td>IR1</td>\n",
       "      <td>Lvl</td>\n",
       "      <td>AllPub</td>\n",
       "      <td>Inside</td>\n",
       "      <td>...</td>\n",
       "      <td>0</td>\n",
       "      <td>0</td>\n",
       "      <td>NaN</td>\n",
       "      <td>NaN</td>\n",
       "      <td>NaN</td>\n",
       "      <td>0</td>\n",
       "      <td>7</td>\n",
       "      <td>2008</td>\n",
       "      <td>WD</td>\n",
       "      <td>284700</td>\n",
       "    </tr>\n",
       "    <tr>\n",
       "      <th>2237</th>\n",
       "      <td>70</td>\n",
       "      <td>RM</td>\n",
       "      <td>50.0</td>\n",
       "      <td>9060</td>\n",
       "      <td>Pave</td>\n",
       "      <td>NaN</td>\n",
       "      <td>Reg</td>\n",
       "      <td>Lvl</td>\n",
       "      <td>AllPub</td>\n",
       "      <td>Inside</td>\n",
       "      <td>...</td>\n",
       "      <td>0</td>\n",
       "      <td>0</td>\n",
       "      <td>NaN</td>\n",
       "      <td>MnPrv</td>\n",
       "      <td>NaN</td>\n",
       "      <td>0</td>\n",
       "      <td>3</td>\n",
       "      <td>2007</td>\n",
       "      <td>WD</td>\n",
       "      <td>150909</td>\n",
       "    </tr>\n",
       "  </tbody>\n",
       "</table>\n",
       "<p>3 rows × 79 columns</p>\n",
       "</div>"
      ],
      "text/plain": [
       "      ms_subclass ms_zoning  lot_frontage  lot_area street alley lot_shape  \\\n",
       "id                                                                           \n",
       "1342           20        RM          99.0      5940   Pave   NaN       IR1   \n",
       "1498           20        RL         123.0     47007   Pave   NaN       IR1   \n",
       "2237           70        RM          50.0      9060   Pave   NaN       Reg   \n",
       "\n",
       "     land_contour utilities lot_config  ... screen_porch pool_area pool_qc  \\\n",
       "id                                      ...                                  \n",
       "1342          Lvl    AllPub        FR3  ...            0         0     NaN   \n",
       "1498          Lvl    AllPub     Inside  ...            0         0     NaN   \n",
       "2237          Lvl    AllPub     Inside  ...            0         0     NaN   \n",
       "\n",
       "      fence misc_feature misc_val  mo_sold  yr_sold  sale_type  saleprice  \n",
       "id                                                                         \n",
       "1342  MnPrv          NaN        0        4     2008      ConLD      79000  \n",
       "1498    NaN          NaN        0        7     2008        WD      284700  \n",
       "2237  MnPrv          NaN        0        3     2007        WD      150909  \n",
       "\n",
       "[3 rows x 79 columns]"
      ]
     },
     "execution_count": 13,
     "metadata": {},
     "output_type": "execute_result"
    }
   ],
   "source": [
    "train[train['total_bsmt_sf'].isnull()| \n",
    "      train['garage_area'].isnull() | \n",
    "      train['bsmt_unf_sf'].isnull() |\n",
    "      train['bsmt_full_bath'].isnull()]"
   ]
  },
  {
   "cell_type": "code",
   "execution_count": 14,
   "metadata": {
    "scrolled": false
   },
   "outputs": [
    {
     "data": {
      "text/plain": [
       "pool_qc           2039\n",
       "misc_feature      1983\n",
       "alley             1908\n",
       "fence             1650\n",
       "fireplace_qu       998\n",
       "lot_frontage       330\n",
       "garage_yr_blt      113\n",
       "garage_type        113\n",
       "garage_finish      113\n",
       "garage_qual        113\n",
       "garage_cond        113\n",
       "bsmt_exposure       56\n",
       "bsmtfin_type_2      54\n",
       "bsmtfin_type_1      53\n",
       "bsmt_cond           53\n",
       "bsmt_qual           53\n",
       "mas_vnr_area        22\n",
       "mas_vnr_type        22\n",
       "dtype: int64"
      ]
     },
     "execution_count": 14,
     "metadata": {},
     "output_type": "execute_result"
    }
   ],
   "source": [
    "# Drop rows that consist more than one NaN\n",
    "# Assumption: dropping random sample of the whole data\n",
    "train = train.drop([1342, 1498, 2237])\n",
    "(train.isnull().sum())[train.isnull().sum() > 0].sort_values(ascending=False)"
   ]
  },
  {
   "cell_type": "code",
   "execution_count": 15,
   "metadata": {},
   "outputs": [
    {
     "data": {
      "text/plain": [
       "pool_qc           2039\n",
       "fireplace_qu       998\n",
       "lot_frontage       330\n",
       "garage_cond        113\n",
       "garage_qual        113\n",
       "garage_finish      113\n",
       "garage_yr_blt      113\n",
       "garage_type        113\n",
       "bsmt_exposure       56\n",
       "bsmtfin_type_2      54\n",
       "bsmtfin_type_1      53\n",
       "bsmt_cond           53\n",
       "bsmt_qual           53\n",
       "mas_vnr_area        22\n",
       "mas_vnr_type        22\n",
       "dtype: int64"
      ]
     },
     "execution_count": 15,
     "metadata": {},
     "output_type": "execute_result"
    }
   ],
   "source": [
    "# Misc Features, Alley, Fence\n",
    "\n",
    "for i in ['misc_feature','alley','fence']:\n",
    "    train[i] = train[i].fillna('None')\n",
    "(train.isnull().sum())[train.isnull().sum() > 0].sort_values(ascending=False)"
   ]
  },
  {
   "cell_type": "code",
   "execution_count": 16,
   "metadata": {
    "scrolled": true
   },
   "outputs": [
    {
     "data": {
      "text/plain": [
       "pool_qc           2039\n",
       "fireplace_qu       998\n",
       "garage_cond        113\n",
       "garage_qual        113\n",
       "garage_finish      113\n",
       "garage_yr_blt      113\n",
       "garage_type        113\n",
       "bsmt_exposure       56\n",
       "bsmtfin_type_2      54\n",
       "bsmtfin_type_1      53\n",
       "bsmt_cond           53\n",
       "bsmt_qual           53\n",
       "mas_vnr_area        22\n",
       "mas_vnr_type        22\n",
       "dtype: int64"
      ]
     },
     "execution_count": 16,
     "metadata": {},
     "output_type": "execute_result"
    }
   ],
   "source": [
    "# Lot Frontage \n",
    "# lot_frontage has a considerable amount of NaNs hence would use overall mean\n",
    "# https://www.gimme-shelter.com/why-you-want-to-buy-real-estate-with-frontage-10014/\n",
    "frontage_mean = train.lot_frontage.mean()\n",
    "train['lot_frontage'].fillna(frontage_mean, inplace = True)\n",
    "(train.isnull().sum())[train.isnull().sum() > 0].sort_values(ascending=False)"
   ]
  },
  {
   "cell_type": "code",
   "execution_count": 17,
   "metadata": {},
   "outputs": [
    {
     "data": {
      "text/plain": [
       "pool_qc           2039\n",
       "fireplace_qu       998\n",
       "garage_cond        113\n",
       "garage_qual        113\n",
       "bsmt_exposure       56\n",
       "bsmtfin_type_2      54\n",
       "bsmtfin_type_1      53\n",
       "bsmt_cond           53\n",
       "bsmt_qual           53\n",
       "mas_vnr_area        22\n",
       "mas_vnr_type        22\n",
       "dtype: int64"
      ]
     },
     "execution_count": 17,
     "metadata": {},
     "output_type": "execute_result"
    }
   ],
   "source": [
    "# Garage\n",
    "# There seem to be the same number of NaNs that are associated with garage \n",
    "# Hence I would assume that these 113 rows are housings that does not have garage\n",
    "train['garage_finish'] = train['garage_finish'].fillna('None')\n",
    "train['garage_yr_blt'] = train['garage_yr_blt'].fillna('None')\n",
    "train['garage_type'] = train['garage_type'].fillna('None')\n",
    "(train.isnull().sum())[train.isnull().sum() > 0].sort_values(ascending=False)"
   ]
  },
  {
   "cell_type": "code",
   "execution_count": 18,
   "metadata": {},
   "outputs": [
    {
     "data": {
      "text/plain": [
       "pool_qc          2039\n",
       "fireplace_qu      998\n",
       "garage_cond       113\n",
       "garage_qual       113\n",
       "bsmt_exposure      56\n",
       "bsmt_cond          53\n",
       "bsmt_qual          53\n",
       "mas_vnr_area       22\n",
       "mas_vnr_type       22\n",
       "dtype: int64"
      ]
     },
     "execution_count": 18,
     "metadata": {},
     "output_type": "execute_result"
    }
   ],
   "source": [
    "# Basement\n",
    "# Likewise as mentioned above, this could be house that does not have basement\n",
    "for i in ['bsmtfin_type_2','bsmtfin_type_1']:\n",
    "    train[i] = train[i].fillna('None')\n",
    "(train.isnull().sum())[train.isnull().sum() > 0].sort_values(ascending=False)"
   ]
  },
  {
   "cell_type": "code",
   "execution_count": 19,
   "metadata": {},
   "outputs": [],
   "source": [
    "# Masonry\n",
    "# As NaNs for Masonry is low, I would fill houses with no Masonry as zero area\n",
    "train['mas_vnr_type'] = train['mas_vnr_type'].fillna('None')\n",
    "train['mas_vnr_area'] = train['mas_vnr_area'].fillna(0)"
   ]
  },
  {
   "cell_type": "code",
   "execution_count": 20,
   "metadata": {},
   "outputs": [],
   "source": [
    "# Convert ordinal values in variables\n",
    "# Variables with Ex, Gd, TA, Fa, & Po\n",
    "for x in ['exter_qual','exter_cond','kitchen_qual', 'heating_qc']:\n",
    "    train[x] = train[x].map({'Ex':5,'Gd':4,'TA':3,'Fa':2,'Po':1})\n",
    "    \n",
    "for i in ['exter_qual','exter_cond','kitchen_qual', 'heating_qc']:\n",
    "    train[i] = train[i].fillna('None')\n",
    "    \n",
    "    \n",
    "# Variables with Ex, Gd, TA, Fa, Po, & NA\n",
    "for y in ['bsmt_qual','bsmt_cond','fireplace_qu', 'garage_qual', 'garage_cond']:\n",
    "    train[y] = train[y].map({'Ex':5,'Gd':4,'TA':3,'Fa':2,'Po':1, 'NA':0})\n",
    "\n",
    "for i in ['bsmt_qual','bsmt_cond','fireplace_qu', 'garage_qual', 'garage_cond']:\n",
    "    train[i] = train[i].fillna('None')\n",
    "    \n",
    "    \n",
    "# Exposure \n",
    "train['bsmt_exposure'] = train['bsmt_exposure'].map({'Gd':3,'Av':2,'Mn':1,'No':0,'None':0})\n",
    "train['bsmt_exposure'] = train['bsmt_exposure'].fillna('None')\n",
    "\n",
    "# Pool_qc\n",
    "train['pool_qc'] = train['pool_qc'].map({'Ex':4,'Gd':3,'TA':2,'Fa':1,'NA':0})\n",
    "train['pool_qc'] = train['pool_qc'].fillna('None')"
   ]
  },
  {
   "cell_type": "code",
   "execution_count": 21,
   "metadata": {
    "scrolled": true
   },
   "outputs": [
    {
     "data": {
      "text/plain": [
       "Series([], dtype: int64)"
      ]
     },
     "execution_count": 21,
     "metadata": {},
     "output_type": "execute_result"
    }
   ],
   "source": [
    "# Check again for any more nulls\n",
    "(train.isnull().sum())[train.isnull().sum() > 0]"
   ]
  },
  {
   "cell_type": "code",
   "execution_count": 22,
   "metadata": {},
   "outputs": [
    {
     "data": {
      "text/plain": [
       "0"
      ]
     },
     "execution_count": 22,
     "metadata": {},
     "output_type": "execute_result"
    }
   ],
   "source": [
    "#Check saleprice column\n",
    "train.saleprice.isnull().sum()"
   ]
  },
  {
   "cell_type": "code",
   "execution_count": 23,
   "metadata": {
    "scrolled": false
   },
   "outputs": [
    {
     "data": {
      "text/plain": [
       "dtype('int64')"
      ]
     },
     "execution_count": 23,
     "metadata": {},
     "output_type": "execute_result"
    }
   ],
   "source": [
    "train.saleprice.dtype"
   ]
  },
  {
   "cell_type": "markdown",
   "metadata": {},
   "source": [
    "### 5. Binarize Variable"
   ]
  },
  {
   "cell_type": "code",
   "execution_count": 24,
   "metadata": {
    "scrolled": true
   },
   "outputs": [
    {
     "data": {
      "text/plain": [
       "Y    1907\n",
       "N     141\n",
       "Name: central_air, dtype: int64"
      ]
     },
     "execution_count": 24,
     "metadata": {},
     "output_type": "execute_result"
    }
   ],
   "source": [
    "train['central_air'].value_counts()"
   ]
  },
  {
   "cell_type": "code",
   "execution_count": 25,
   "metadata": {},
   "outputs": [
    {
     "data": {
      "text/plain": [
       "1    1907\n",
       "0     141\n",
       "Name: central_air, dtype: int64"
      ]
     },
     "execution_count": 25,
     "metadata": {},
     "output_type": "execute_result"
    }
   ],
   "source": [
    "# Binarize Central air \n",
    "train['central_air'] = train['central_air'].map(lambda x: '1' if x == 'Y' else '0')\n",
    "train['central_air'].value_counts()"
   ]
  },
  {
   "cell_type": "code",
   "execution_count": 26,
   "metadata": {},
   "outputs": [
    {
     "data": {
      "text/plain": [
       "Pave    2041\n",
       "Grvl       7\n",
       "Name: street, dtype: int64"
      ]
     },
     "execution_count": 26,
     "metadata": {},
     "output_type": "execute_result"
    }
   ],
   "source": [
    "train['street'].value_counts()"
   ]
  },
  {
   "cell_type": "code",
   "execution_count": 27,
   "metadata": {
    "scrolled": false
   },
   "outputs": [
    {
     "data": {
      "text/plain": [
       "1    2041\n",
       "2       7\n",
       "Name: street, dtype: int64"
      ]
     },
     "execution_count": 27,
     "metadata": {},
     "output_type": "execute_result"
    }
   ],
   "source": [
    "# Binarize Street\n",
    "train['street'] = train['street'].map(lambda x: '1' if x == 'Pave' else '2')\n",
    "train['street'].value_counts()"
   ]
  },
  {
   "cell_type": "markdown",
   "metadata": {},
   "source": [
    "## Exploratory Data Analysis"
   ]
  },
  {
   "cell_type": "markdown",
   "metadata": {},
   "source": [
    "### 1. Statistic Summary of Data"
   ]
  },
  {
   "cell_type": "code",
   "execution_count": 28,
   "metadata": {
    "scrolled": false
   },
   "outputs": [
    {
     "data": {
      "text/html": [
       "<div>\n",
       "<style scoped>\n",
       "    .dataframe tbody tr th:only-of-type {\n",
       "        vertical-align: middle;\n",
       "    }\n",
       "\n",
       "    .dataframe tbody tr th {\n",
       "        vertical-align: top;\n",
       "    }\n",
       "\n",
       "    .dataframe thead th {\n",
       "        text-align: right;\n",
       "    }\n",
       "</style>\n",
       "<table border=\"1\" class=\"dataframe\">\n",
       "  <thead>\n",
       "    <tr style=\"text-align: right;\">\n",
       "      <th></th>\n",
       "      <th>count</th>\n",
       "      <th>mean</th>\n",
       "      <th>std</th>\n",
       "      <th>min</th>\n",
       "      <th>25%</th>\n",
       "      <th>50%</th>\n",
       "      <th>75%</th>\n",
       "      <th>max</th>\n",
       "    </tr>\n",
       "  </thead>\n",
       "  <tbody>\n",
       "    <tr>\n",
       "      <th>ms_subclass</th>\n",
       "      <td>2048.0</td>\n",
       "      <td>57.038574</td>\n",
       "      <td>42.839004</td>\n",
       "      <td>20.0</td>\n",
       "      <td>20.00</td>\n",
       "      <td>50.000000</td>\n",
       "      <td>70.00</td>\n",
       "      <td>190.0</td>\n",
       "    </tr>\n",
       "    <tr>\n",
       "      <th>lot_frontage</th>\n",
       "      <td>2048.0</td>\n",
       "      <td>69.017462</td>\n",
       "      <td>21.274114</td>\n",
       "      <td>21.0</td>\n",
       "      <td>60.00</td>\n",
       "      <td>69.017462</td>\n",
       "      <td>78.00</td>\n",
       "      <td>313.0</td>\n",
       "    </tr>\n",
       "    <tr>\n",
       "      <th>lot_area</th>\n",
       "      <td>2048.0</td>\n",
       "      <td>10049.675293</td>\n",
       "      <td>6697.167566</td>\n",
       "      <td>1300.0</td>\n",
       "      <td>7500.00</td>\n",
       "      <td>9432.000000</td>\n",
       "      <td>11512.75</td>\n",
       "      <td>159000.0</td>\n",
       "    </tr>\n",
       "    <tr>\n",
       "      <th>overall_qual</th>\n",
       "      <td>2048.0</td>\n",
       "      <td>6.114258</td>\n",
       "      <td>1.426126</td>\n",
       "      <td>1.0</td>\n",
       "      <td>5.00</td>\n",
       "      <td>6.000000</td>\n",
       "      <td>7.00</td>\n",
       "      <td>10.0</td>\n",
       "    </tr>\n",
       "    <tr>\n",
       "      <th>overall_cond</th>\n",
       "      <td>2048.0</td>\n",
       "      <td>5.560547</td>\n",
       "      <td>1.104349</td>\n",
       "      <td>1.0</td>\n",
       "      <td>5.00</td>\n",
       "      <td>5.000000</td>\n",
       "      <td>6.00</td>\n",
       "      <td>9.0</td>\n",
       "    </tr>\n",
       "    <tr>\n",
       "      <th>year_built</th>\n",
       "      <td>2048.0</td>\n",
       "      <td>1971.751465</td>\n",
       "      <td>30.174112</td>\n",
       "      <td>1872.0</td>\n",
       "      <td>1954.00</td>\n",
       "      <td>1974.000000</td>\n",
       "      <td>2001.00</td>\n",
       "      <td>2010.0</td>\n",
       "    </tr>\n",
       "    <tr>\n",
       "      <th>year_remod/add</th>\n",
       "      <td>2048.0</td>\n",
       "      <td>1984.193848</td>\n",
       "      <td>21.033925</td>\n",
       "      <td>1950.0</td>\n",
       "      <td>1964.75</td>\n",
       "      <td>1993.000000</td>\n",
       "      <td>2004.00</td>\n",
       "      <td>2010.0</td>\n",
       "    </tr>\n",
       "    <tr>\n",
       "      <th>mas_vnr_area</th>\n",
       "      <td>2048.0</td>\n",
       "      <td>98.770996</td>\n",
       "      <td>174.411461</td>\n",
       "      <td>0.0</td>\n",
       "      <td>0.00</td>\n",
       "      <td>0.000000</td>\n",
       "      <td>160.00</td>\n",
       "      <td>1600.0</td>\n",
       "    </tr>\n",
       "    <tr>\n",
       "      <th>exter_qual</th>\n",
       "      <td>2048.0</td>\n",
       "      <td>3.406738</td>\n",
       "      <td>0.588187</td>\n",
       "      <td>2.0</td>\n",
       "      <td>3.00</td>\n",
       "      <td>3.000000</td>\n",
       "      <td>4.00</td>\n",
       "      <td>5.0</td>\n",
       "    </tr>\n",
       "    <tr>\n",
       "      <th>exter_cond</th>\n",
       "      <td>2048.0</td>\n",
       "      <td>3.085938</td>\n",
       "      <td>0.373051</td>\n",
       "      <td>1.0</td>\n",
       "      <td>3.00</td>\n",
       "      <td>3.000000</td>\n",
       "      <td>3.00</td>\n",
       "      <td>5.0</td>\n",
       "    </tr>\n",
       "    <tr>\n",
       "      <th>bsmtfin_sf_1</th>\n",
       "      <td>2048.0</td>\n",
       "      <td>442.464844</td>\n",
       "      <td>461.319862</td>\n",
       "      <td>0.0</td>\n",
       "      <td>0.00</td>\n",
       "      <td>368.000000</td>\n",
       "      <td>734.00</td>\n",
       "      <td>5644.0</td>\n",
       "    </tr>\n",
       "    <tr>\n",
       "      <th>bsmtfin_sf_2</th>\n",
       "      <td>2048.0</td>\n",
       "      <td>48.005859</td>\n",
       "      <td>165.074675</td>\n",
       "      <td>0.0</td>\n",
       "      <td>0.00</td>\n",
       "      <td>0.000000</td>\n",
       "      <td>0.00</td>\n",
       "      <td>1474.0</td>\n",
       "    </tr>\n",
       "    <tr>\n",
       "      <th>bsmt_unf_sf</th>\n",
       "      <td>2048.0</td>\n",
       "      <td>568.130859</td>\n",
       "      <td>444.958855</td>\n",
       "      <td>0.0</td>\n",
       "      <td>220.00</td>\n",
       "      <td>475.000000</td>\n",
       "      <td>811.00</td>\n",
       "      <td>2336.0</td>\n",
       "    </tr>\n",
       "    <tr>\n",
       "      <th>total_bsmt_sf</th>\n",
       "      <td>2048.0</td>\n",
       "      <td>1058.601562</td>\n",
       "      <td>448.999749</td>\n",
       "      <td>0.0</td>\n",
       "      <td>793.00</td>\n",
       "      <td>995.500000</td>\n",
       "      <td>1319.00</td>\n",
       "      <td>6110.0</td>\n",
       "    </tr>\n",
       "    <tr>\n",
       "      <th>heating_qc</th>\n",
       "      <td>2048.0</td>\n",
       "      <td>4.159180</td>\n",
       "      <td>0.963959</td>\n",
       "      <td>1.0</td>\n",
       "      <td>3.00</td>\n",
       "      <td>5.000000</td>\n",
       "      <td>5.00</td>\n",
       "      <td>5.0</td>\n",
       "    </tr>\n",
       "    <tr>\n",
       "      <th>1st_flr_sf</th>\n",
       "      <td>2048.0</td>\n",
       "      <td>1163.431152</td>\n",
       "      <td>392.294626</td>\n",
       "      <td>334.0</td>\n",
       "      <td>879.00</td>\n",
       "      <td>1093.000000</td>\n",
       "      <td>1405.00</td>\n",
       "      <td>5095.0</td>\n",
       "    </tr>\n",
       "    <tr>\n",
       "      <th>2nd_flr_sf</th>\n",
       "      <td>2048.0</td>\n",
       "      <td>329.378906</td>\n",
       "      <td>425.680677</td>\n",
       "      <td>0.0</td>\n",
       "      <td>0.00</td>\n",
       "      <td>0.000000</td>\n",
       "      <td>691.75</td>\n",
       "      <td>1862.0</td>\n",
       "    </tr>\n",
       "    <tr>\n",
       "      <th>low_qual_fin_sf</th>\n",
       "      <td>2048.0</td>\n",
       "      <td>5.520996</td>\n",
       "      <td>51.105842</td>\n",
       "      <td>0.0</td>\n",
       "      <td>0.00</td>\n",
       "      <td>0.000000</td>\n",
       "      <td>0.00</td>\n",
       "      <td>1064.0</td>\n",
       "    </tr>\n",
       "    <tr>\n",
       "      <th>gr_liv_area</th>\n",
       "      <td>2048.0</td>\n",
       "      <td>1498.331055</td>\n",
       "      <td>497.948344</td>\n",
       "      <td>334.0</td>\n",
       "      <td>1129.50</td>\n",
       "      <td>1444.000000</td>\n",
       "      <td>1728.00</td>\n",
       "      <td>5642.0</td>\n",
       "    </tr>\n",
       "    <tr>\n",
       "      <th>bsmt_full_bath</th>\n",
       "      <td>2048.0</td>\n",
       "      <td>0.427734</td>\n",
       "      <td>0.522715</td>\n",
       "      <td>0.0</td>\n",
       "      <td>0.00</td>\n",
       "      <td>0.000000</td>\n",
       "      <td>1.00</td>\n",
       "      <td>3.0</td>\n",
       "    </tr>\n",
       "    <tr>\n",
       "      <th>bsmt_half_bath</th>\n",
       "      <td>2048.0</td>\n",
       "      <td>0.063477</td>\n",
       "      <td>0.251763</td>\n",
       "      <td>0.0</td>\n",
       "      <td>0.00</td>\n",
       "      <td>0.000000</td>\n",
       "      <td>0.00</td>\n",
       "      <td>2.0</td>\n",
       "    </tr>\n",
       "    <tr>\n",
       "      <th>full_bath</th>\n",
       "      <td>2048.0</td>\n",
       "      <td>1.576660</td>\n",
       "      <td>0.548553</td>\n",
       "      <td>0.0</td>\n",
       "      <td>1.00</td>\n",
       "      <td>2.000000</td>\n",
       "      <td>2.00</td>\n",
       "      <td>4.0</td>\n",
       "    </tr>\n",
       "    <tr>\n",
       "      <th>half_bath</th>\n",
       "      <td>2048.0</td>\n",
       "      <td>0.371094</td>\n",
       "      <td>0.501083</td>\n",
       "      <td>0.0</td>\n",
       "      <td>0.00</td>\n",
       "      <td>0.000000</td>\n",
       "      <td>1.00</td>\n",
       "      <td>2.0</td>\n",
       "    </tr>\n",
       "    <tr>\n",
       "      <th>bedroom_abvgr</th>\n",
       "      <td>2048.0</td>\n",
       "      <td>2.842773</td>\n",
       "      <td>0.825631</td>\n",
       "      <td>0.0</td>\n",
       "      <td>2.00</td>\n",
       "      <td>3.000000</td>\n",
       "      <td>3.00</td>\n",
       "      <td>8.0</td>\n",
       "    </tr>\n",
       "    <tr>\n",
       "      <th>kitchen_abvgr</th>\n",
       "      <td>2048.0</td>\n",
       "      <td>1.042969</td>\n",
       "      <td>0.209937</td>\n",
       "      <td>0.0</td>\n",
       "      <td>1.00</td>\n",
       "      <td>1.000000</td>\n",
       "      <td>1.00</td>\n",
       "      <td>3.0</td>\n",
       "    </tr>\n",
       "    <tr>\n",
       "      <th>kitchen_qual</th>\n",
       "      <td>2048.0</td>\n",
       "      <td>3.516602</td>\n",
       "      <td>0.665074</td>\n",
       "      <td>2.0</td>\n",
       "      <td>3.00</td>\n",
       "      <td>3.000000</td>\n",
       "      <td>4.00</td>\n",
       "      <td>5.0</td>\n",
       "    </tr>\n",
       "    <tr>\n",
       "      <th>totrms_abvgrd</th>\n",
       "      <td>2048.0</td>\n",
       "      <td>6.435059</td>\n",
       "      <td>1.557145</td>\n",
       "      <td>2.0</td>\n",
       "      <td>5.00</td>\n",
       "      <td>6.000000</td>\n",
       "      <td>7.00</td>\n",
       "      <td>15.0</td>\n",
       "    </tr>\n",
       "    <tr>\n",
       "      <th>fireplaces</th>\n",
       "      <td>2048.0</td>\n",
       "      <td>0.590820</td>\n",
       "      <td>0.637957</td>\n",
       "      <td>0.0</td>\n",
       "      <td>0.00</td>\n",
       "      <td>1.000000</td>\n",
       "      <td>1.00</td>\n",
       "      <td>4.0</td>\n",
       "    </tr>\n",
       "    <tr>\n",
       "      <th>garage_cars</th>\n",
       "      <td>2048.0</td>\n",
       "      <td>1.776855</td>\n",
       "      <td>0.764702</td>\n",
       "      <td>0.0</td>\n",
       "      <td>1.00</td>\n",
       "      <td>2.000000</td>\n",
       "      <td>2.00</td>\n",
       "      <td>5.0</td>\n",
       "    </tr>\n",
       "    <tr>\n",
       "      <th>garage_area</th>\n",
       "      <td>2048.0</td>\n",
       "      <td>473.692871</td>\n",
       "      <td>215.972053</td>\n",
       "      <td>0.0</td>\n",
       "      <td>319.00</td>\n",
       "      <td>480.000000</td>\n",
       "      <td>576.00</td>\n",
       "      <td>1418.0</td>\n",
       "    </tr>\n",
       "    <tr>\n",
       "      <th>wood_deck_sf</th>\n",
       "      <td>2048.0</td>\n",
       "      <td>93.886230</td>\n",
       "      <td>128.597923</td>\n",
       "      <td>0.0</td>\n",
       "      <td>0.00</td>\n",
       "      <td>0.000000</td>\n",
       "      <td>168.00</td>\n",
       "      <td>1424.0</td>\n",
       "    </tr>\n",
       "    <tr>\n",
       "      <th>open_porch_sf</th>\n",
       "      <td>2048.0</td>\n",
       "      <td>47.444824</td>\n",
       "      <td>66.393358</td>\n",
       "      <td>0.0</td>\n",
       "      <td>0.00</td>\n",
       "      <td>27.000000</td>\n",
       "      <td>70.00</td>\n",
       "      <td>547.0</td>\n",
       "    </tr>\n",
       "    <tr>\n",
       "      <th>enclosed_porch</th>\n",
       "      <td>2048.0</td>\n",
       "      <td>22.501465</td>\n",
       "      <td>59.738209</td>\n",
       "      <td>0.0</td>\n",
       "      <td>0.00</td>\n",
       "      <td>0.000000</td>\n",
       "      <td>0.00</td>\n",
       "      <td>432.0</td>\n",
       "    </tr>\n",
       "    <tr>\n",
       "      <th>3ssn_porch</th>\n",
       "      <td>2048.0</td>\n",
       "      <td>2.595215</td>\n",
       "      <td>25.247901</td>\n",
       "      <td>0.0</td>\n",
       "      <td>0.00</td>\n",
       "      <td>0.000000</td>\n",
       "      <td>0.00</td>\n",
       "      <td>508.0</td>\n",
       "    </tr>\n",
       "    <tr>\n",
       "      <th>screen_porch</th>\n",
       "      <td>2048.0</td>\n",
       "      <td>16.535645</td>\n",
       "      <td>57.412746</td>\n",
       "      <td>0.0</td>\n",
       "      <td>0.00</td>\n",
       "      <td>0.000000</td>\n",
       "      <td>0.00</td>\n",
       "      <td>490.0</td>\n",
       "    </tr>\n",
       "    <tr>\n",
       "      <th>pool_area</th>\n",
       "      <td>2048.0</td>\n",
       "      <td>2.401367</td>\n",
       "      <td>37.810135</td>\n",
       "      <td>0.0</td>\n",
       "      <td>0.00</td>\n",
       "      <td>0.000000</td>\n",
       "      <td>0.00</td>\n",
       "      <td>800.0</td>\n",
       "    </tr>\n",
       "    <tr>\n",
       "      <th>misc_val</th>\n",
       "      <td>2048.0</td>\n",
       "      <td>51.649902</td>\n",
       "      <td>573.810601</td>\n",
       "      <td>0.0</td>\n",
       "      <td>0.00</td>\n",
       "      <td>0.000000</td>\n",
       "      <td>0.00</td>\n",
       "      <td>17000.0</td>\n",
       "    </tr>\n",
       "    <tr>\n",
       "      <th>mo_sold</th>\n",
       "      <td>2048.0</td>\n",
       "      <td>6.222168</td>\n",
       "      <td>2.745331</td>\n",
       "      <td>1.0</td>\n",
       "      <td>4.00</td>\n",
       "      <td>6.000000</td>\n",
       "      <td>8.00</td>\n",
       "      <td>12.0</td>\n",
       "    </tr>\n",
       "    <tr>\n",
       "      <th>yr_sold</th>\n",
       "      <td>2048.0</td>\n",
       "      <td>2007.775879</td>\n",
       "      <td>1.312844</td>\n",
       "      <td>2006.0</td>\n",
       "      <td>2007.00</td>\n",
       "      <td>2008.000000</td>\n",
       "      <td>2009.00</td>\n",
       "      <td>2010.0</td>\n",
       "    </tr>\n",
       "    <tr>\n",
       "      <th>saleprice</th>\n",
       "      <td>2048.0</td>\n",
       "      <td>181484.252441</td>\n",
       "      <td>79248.657891</td>\n",
       "      <td>12789.0</td>\n",
       "      <td>129837.50</td>\n",
       "      <td>162500.000000</td>\n",
       "      <td>214000.00</td>\n",
       "      <td>611657.0</td>\n",
       "    </tr>\n",
       "  </tbody>\n",
       "</table>\n",
       "</div>"
      ],
      "text/plain": [
       "                  count           mean           std      min        25%  \\\n",
       "ms_subclass      2048.0      57.038574     42.839004     20.0      20.00   \n",
       "lot_frontage     2048.0      69.017462     21.274114     21.0      60.00   \n",
       "lot_area         2048.0   10049.675293   6697.167566   1300.0    7500.00   \n",
       "overall_qual     2048.0       6.114258      1.426126      1.0       5.00   \n",
       "overall_cond     2048.0       5.560547      1.104349      1.0       5.00   \n",
       "year_built       2048.0    1971.751465     30.174112   1872.0    1954.00   \n",
       "year_remod/add   2048.0    1984.193848     21.033925   1950.0    1964.75   \n",
       "mas_vnr_area     2048.0      98.770996    174.411461      0.0       0.00   \n",
       "exter_qual       2048.0       3.406738      0.588187      2.0       3.00   \n",
       "exter_cond       2048.0       3.085938      0.373051      1.0       3.00   \n",
       "bsmtfin_sf_1     2048.0     442.464844    461.319862      0.0       0.00   \n",
       "bsmtfin_sf_2     2048.0      48.005859    165.074675      0.0       0.00   \n",
       "bsmt_unf_sf      2048.0     568.130859    444.958855      0.0     220.00   \n",
       "total_bsmt_sf    2048.0    1058.601562    448.999749      0.0     793.00   \n",
       "heating_qc       2048.0       4.159180      0.963959      1.0       3.00   \n",
       "1st_flr_sf       2048.0    1163.431152    392.294626    334.0     879.00   \n",
       "2nd_flr_sf       2048.0     329.378906    425.680677      0.0       0.00   \n",
       "low_qual_fin_sf  2048.0       5.520996     51.105842      0.0       0.00   \n",
       "gr_liv_area      2048.0    1498.331055    497.948344    334.0    1129.50   \n",
       "bsmt_full_bath   2048.0       0.427734      0.522715      0.0       0.00   \n",
       "bsmt_half_bath   2048.0       0.063477      0.251763      0.0       0.00   \n",
       "full_bath        2048.0       1.576660      0.548553      0.0       1.00   \n",
       "half_bath        2048.0       0.371094      0.501083      0.0       0.00   \n",
       "bedroom_abvgr    2048.0       2.842773      0.825631      0.0       2.00   \n",
       "kitchen_abvgr    2048.0       1.042969      0.209937      0.0       1.00   \n",
       "kitchen_qual     2048.0       3.516602      0.665074      2.0       3.00   \n",
       "totrms_abvgrd    2048.0       6.435059      1.557145      2.0       5.00   \n",
       "fireplaces       2048.0       0.590820      0.637957      0.0       0.00   \n",
       "garage_cars      2048.0       1.776855      0.764702      0.0       1.00   \n",
       "garage_area      2048.0     473.692871    215.972053      0.0     319.00   \n",
       "wood_deck_sf     2048.0      93.886230    128.597923      0.0       0.00   \n",
       "open_porch_sf    2048.0      47.444824     66.393358      0.0       0.00   \n",
       "enclosed_porch   2048.0      22.501465     59.738209      0.0       0.00   \n",
       "3ssn_porch       2048.0       2.595215     25.247901      0.0       0.00   \n",
       "screen_porch     2048.0      16.535645     57.412746      0.0       0.00   \n",
       "pool_area        2048.0       2.401367     37.810135      0.0       0.00   \n",
       "misc_val         2048.0      51.649902    573.810601      0.0       0.00   \n",
       "mo_sold          2048.0       6.222168      2.745331      1.0       4.00   \n",
       "yr_sold          2048.0    2007.775879      1.312844   2006.0    2007.00   \n",
       "saleprice        2048.0  181484.252441  79248.657891  12789.0  129837.50   \n",
       "\n",
       "                           50%        75%       max  \n",
       "ms_subclass          50.000000      70.00     190.0  \n",
       "lot_frontage         69.017462      78.00     313.0  \n",
       "lot_area           9432.000000   11512.75  159000.0  \n",
       "overall_qual          6.000000       7.00      10.0  \n",
       "overall_cond          5.000000       6.00       9.0  \n",
       "year_built         1974.000000    2001.00    2010.0  \n",
       "year_remod/add     1993.000000    2004.00    2010.0  \n",
       "mas_vnr_area          0.000000     160.00    1600.0  \n",
       "exter_qual            3.000000       4.00       5.0  \n",
       "exter_cond            3.000000       3.00       5.0  \n",
       "bsmtfin_sf_1        368.000000     734.00    5644.0  \n",
       "bsmtfin_sf_2          0.000000       0.00    1474.0  \n",
       "bsmt_unf_sf         475.000000     811.00    2336.0  \n",
       "total_bsmt_sf       995.500000    1319.00    6110.0  \n",
       "heating_qc            5.000000       5.00       5.0  \n",
       "1st_flr_sf         1093.000000    1405.00    5095.0  \n",
       "2nd_flr_sf            0.000000     691.75    1862.0  \n",
       "low_qual_fin_sf       0.000000       0.00    1064.0  \n",
       "gr_liv_area        1444.000000    1728.00    5642.0  \n",
       "bsmt_full_bath        0.000000       1.00       3.0  \n",
       "bsmt_half_bath        0.000000       0.00       2.0  \n",
       "full_bath             2.000000       2.00       4.0  \n",
       "half_bath             0.000000       1.00       2.0  \n",
       "bedroom_abvgr         3.000000       3.00       8.0  \n",
       "kitchen_abvgr         1.000000       1.00       3.0  \n",
       "kitchen_qual          3.000000       4.00       5.0  \n",
       "totrms_abvgrd         6.000000       7.00      15.0  \n",
       "fireplaces            1.000000       1.00       4.0  \n",
       "garage_cars           2.000000       2.00       5.0  \n",
       "garage_area         480.000000     576.00    1418.0  \n",
       "wood_deck_sf          0.000000     168.00    1424.0  \n",
       "open_porch_sf        27.000000      70.00     547.0  \n",
       "enclosed_porch        0.000000       0.00     432.0  \n",
       "3ssn_porch            0.000000       0.00     508.0  \n",
       "screen_porch          0.000000       0.00     490.0  \n",
       "pool_area             0.000000       0.00     800.0  \n",
       "misc_val              0.000000       0.00   17000.0  \n",
       "mo_sold               6.000000       8.00      12.0  \n",
       "yr_sold            2008.000000    2009.00    2010.0  \n",
       "saleprice        162500.000000  214000.00  611657.0  "
      ]
     },
     "execution_count": 28,
     "metadata": {},
     "output_type": "execute_result"
    }
   ],
   "source": [
    "train.describe().T"
   ]
  },
  {
   "cell_type": "markdown",
   "metadata": {},
   "source": [
    "The standard deviation of the saleprice seem to be very high hence further exploration is required. "
   ]
  },
  {
   "cell_type": "markdown",
   "metadata": {},
   "source": [
    "### 2. The Distribution of SalesPrice"
   ]
  },
  {
   "cell_type": "code",
   "execution_count": 29,
   "metadata": {},
   "outputs": [
    {
     "data": {
      "image/png": "[encoded data removed]",
      "text/plain": [
       "<Figure size 864x432 with 1 Axes>"
      ]
     },
     "metadata": {
      "needs_background": "light"
     },
     "output_type": "display_data"
    }
   ],
   "source": [
    "plt.figure(figsize =(12,6))\n",
    "sns.distplot(train['saleprice'], kde= True, bins=75)\n",
    "plt.tight_layout()\n",
    "plt.title('Distribution of Sale Price', fontsize = 20);"
   ]
  },
  {
   "cell_type": "markdown",
   "metadata": {},
   "source": [
    "The average sale price is 181484, with a large standard deviation of 79248. The cheapest home is 12789 while the most expensive is around 611657. The median sales price was 162500, which is slightly below the average sales price. \n",
    "\n",
    "As for the distribution, it is positively skewed. "
   ]
  },
  {
   "cell_type": "markdown",
   "metadata": {},
   "source": [
    "### 3. Heatmap of the Correlation"
   ]
  },
  {
   "cell_type": "code",
   "execution_count": 30,
   "metadata": {
    "scrolled": false
   },
   "outputs": [],
   "source": [
    "# ## ******FOR PRESENTATION********\n",
    "# plt.figure(figsize = (15,18))\n",
    "# train_corr = train.corr()[['saleprice']].sort_values('saleprice', ascending=False)\n",
    "# sns.heatmap(train_corr, annot = True, cmap='coolwarm');"
   ]
  },
  {
   "cell_type": "code",
   "execution_count": 31,
   "metadata": {
    "scrolled": false
   },
   "outputs": [
    {
     "data": {
      "image/png": "[encoded data removed]",
      "text/plain": [
       "<Figure size 1080x432 with 2 Axes>"
      ]
     },
     "metadata": {
      "needs_background": "light"
     },
     "output_type": "display_data"
    }
   ],
   "source": [
    "# Variables has highest positive correlation against Sale Price\n",
    "plt.figure(figsize = (15,6))\n",
    "train_corr = train.corr()[['saleprice']].sort_values('saleprice', ascending=False)\n",
    "positive_corr = train_corr.head(30)\n",
    "\n",
    "sns.heatmap(positive_corr, annot = True, cmap='Blues');"
   ]
  },
  {
   "cell_type": "code",
   "execution_count": 32,
   "metadata": {
    "scrolled": false
   },
   "outputs": [
    {
     "data": {
      "image/png": "[encoded data removed]",
      "text/plain": [
       "<Figure size 1080x432 with 2 Axes>"
      ]
     },
     "metadata": {
      "needs_background": "light"
     },
     "output_type": "display_data"
    }
   ],
   "source": [
    "# Variables has highest negative correlation against Sale Price\n",
    "plt.figure(figsize = (15,6))\n",
    "neg_corr = train_corr.tail(30)\n",
    "sns.heatmap(neg_corr, annot = True, cmap='Blues');"
   ]
  },
  {
   "cell_type": "markdown",
   "metadata": {},
   "source": [
    "### 4. Scatterplots "
   ]
  },
  {
   "cell_type": "code",
   "execution_count": 33,
   "metadata": {
    "scrolled": false
   },
   "outputs": [
    {
     "data": {
      "text/plain": [
       "saleprice         1.000000\n",
       "overall_qual      0.800975\n",
       "exter_qual        0.712880\n",
       "gr_liv_area       0.698046\n",
       "kitchen_qual      0.692190\n",
       "garage_area       0.650000\n",
       "garage_cars       0.648103\n",
       "total_bsmt_sf     0.631507\n",
       "1st_flr_sf        0.621181\n",
       "year_built        0.572256\n",
       "year_remod/add    0.550055\n",
       "full_bath         0.537369\n",
       "mas_vnr_area      0.504025\n",
       "totrms_abvgrd     0.502909\n",
       "fireplaces        0.470091\n",
       "Name: saleprice, dtype: float64"
      ]
     },
     "execution_count": 33,
     "metadata": {},
     "output_type": "execute_result"
    }
   ],
   "source": [
    "train.corr()['saleprice'].sort_values(ascending=False).head(15)"
   ]
  },
  {
   "cell_type": "code",
   "execution_count": 34,
   "metadata": {},
   "outputs": [
    {
     "data": {
      "text/plain": [
       "bedroom_abvgr      0.135178\n",
       "screen_porch       0.134652\n",
       "3ssn_porch         0.048755\n",
       "exter_cond         0.036409\n",
       "mo_sold            0.031868\n",
       "pool_area          0.023115\n",
       "bsmtfin_sf_2       0.016393\n",
       "misc_val          -0.007398\n",
       "yr_sold           -0.015330\n",
       "low_qual_fin_sf   -0.041650\n",
       "bsmt_half_bath    -0.045378\n",
       "ms_subclass       -0.087383\n",
       "overall_cond      -0.097118\n",
       "kitchen_abvgr     -0.125593\n",
       "enclosed_porch    -0.135516\n",
       "Name: saleprice, dtype: float64"
      ]
     },
     "execution_count": 34,
     "metadata": {},
     "output_type": "execute_result"
    }
   ],
   "source": [
    "train.corr()['saleprice'].sort_values(ascending=False).tail(15)"
   ]
  },
  {
   "cell_type": "code",
   "execution_count": 35,
   "metadata": {
    "scrolled": false
   },
   "outputs": [
    {
     "data": {
      "image/png": "[encoded data removed]",
      "text/plain": [
       "<Figure size 1440x180 with 8 Axes>"
      ]
     },
     "metadata": {
      "needs_background": "light"
     },
     "output_type": "display_data"
    }
   ],
   "source": [
    "# Picking out the top correlation coefficient values \n",
    "# that are >= +0.6 <= -0.6 \n",
    "sns.pairplot(train,\n",
    "             y_vars = ['saleprice'],\n",
    "             x_vars = ['overall_qual', 'exter_qual', 'gr_liv_area', \n",
    "                       'kitchen_qual', 'garage_area', 'garage_cars', \n",
    "                       'total_bsmt_sf', '1st_flr_sf']);\n"
   ]
  },
  {
   "cell_type": "markdown",
   "metadata": {},
   "source": [
    "These variables have a relative strong postitive correlation to sale price. however, I have noticed two particular property that lies outside of the normal. They are of very high square feet but were sold at her very low price. "
   ]
  },
  {
   "cell_type": "markdown",
   "metadata": {},
   "source": [
    "### 6. Boxplot"
   ]
  },
  {
   "cell_type": "code",
   "execution_count": 36,
   "metadata": {},
   "outputs": [
    {
     "data": {
      "image/png": "[encoded data removed]",
      "text/plain": [
       "<Figure size 1152x432 with 3 Axes>"
      ]
     },
     "metadata": {
      "needs_background": "light"
     },
     "output_type": "display_data"
    }
   ],
   "source": [
    "#using boxplot to highlight the outliers\n",
    "box_list = ['gr_liv_area', \n",
    "            'total_bsmt_sf', \n",
    "            '1st_flr_sf']\n",
    "\n",
    "fig, ax = plt.subplots(1,3,figsize=(16, 6))\n",
    "ax = ax.ravel()\n",
    "\n",
    "for i, col in enumerate(box_list): \n",
    "    ax[i].boxplot(train[col], widths=[0.5], whis=3)\n",
    "    ax[i].set_title(col.replace('_',' ').title(),fontsize=12)"
   ]
  },
  {
   "cell_type": "markdown",
   "metadata": {},
   "source": [
    "### 7. Outlier"
   ]
  },
  {
   "cell_type": "code",
   "execution_count": 37,
   "metadata": {
    "scrolled": false
   },
   "outputs": [
    {
     "name": "stdout",
     "output_type": "stream",
     "text": [
      "id\n",
      "1499    5642\n",
      "2181    5095\n",
      "2667    3608\n",
      "2738    3672\n",
      "Name: gr_liv_area, dtype: int64\n",
      "id\n",
      "1499    4692\n",
      "2181    5095\n",
      "Name: 1st_flr_sf, dtype: int64\n",
      "id\n",
      "1499    6110.0\n",
      "2181    5095.0\n",
      "Name: total_bsmt_sf, dtype: float64\n"
     ]
    }
   ],
   "source": [
    "#Taking a closer look at gr_liv_area, total_bsmt_sf, 1st_flr_sf\n",
    "#These property are indeed the outliers hence choosing to remove them\n",
    "\n",
    "print((train['gr_liv_area'])[train['gr_liv_area'] > 3500])\n",
    "print((train['1st_flr_sf'])[train['1st_flr_sf'] > 3500])\n",
    "print((train['total_bsmt_sf'])[train['total_bsmt_sf'] > 3500])"
   ]
  },
  {
   "cell_type": "code",
   "execution_count": 38,
   "metadata": {},
   "outputs": [
    {
     "data": {
      "text/plain": [
       "(2048, 79)"
      ]
     },
     "execution_count": 38,
     "metadata": {},
     "output_type": "execute_result"
    }
   ],
   "source": [
    "train.shape"
   ]
  },
  {
   "cell_type": "code",
   "execution_count": 39,
   "metadata": {},
   "outputs": [],
   "source": [
    "train.drop([1499, 2181, 2667, 2738], inplace=True)"
   ]
  },
  {
   "cell_type": "code",
   "execution_count": 40,
   "metadata": {},
   "outputs": [
    {
     "data": {
      "text/plain": [
       "(2044, 79)"
      ]
     },
     "execution_count": 40,
     "metadata": {},
     "output_type": "execute_result"
    }
   ],
   "source": [
    "train.shape"
   ]
  },
  {
   "cell_type": "code",
   "execution_count": 41,
   "metadata": {},
   "outputs": [],
   "source": [
    "#Saving cleaned Data\n",
    "train_cleaned = train\n",
    "train_cleaned.to_csv('../datasets/train_cleaned.csv')"
   ]
  }
 ],
 "metadata": {
  "kernelspec": {
   "display_name": "Python 3",
   "language": "python",
   "name": "python3"
  },
  "language_info": {
   "codemirror_mode": {
    "name": "ipython",
    "version": 3
   },
   "file_extension": ".py",
   "mimetype": "text/x-python",
   "name": "python",
   "nbconvert_exporter": "python",
   "pygments_lexer": "ipython3",
   "version": "3.7.4"
  }
 },
 "nbformat": 4,
 "nbformat_minor": 2
}
